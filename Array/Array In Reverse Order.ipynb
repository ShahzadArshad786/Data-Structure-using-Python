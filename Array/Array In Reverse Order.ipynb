{
 "cells": [
  {
   "cell_type": "markdown",
   "id": "9dad6761",
   "metadata": {},
   "source": [
    "#### Write a Python program to input an array from user and  print original array and reverse of an array. "
   ]
  },
  {
   "cell_type": "code",
   "execution_count": 3,
   "id": "5f475e44",
   "metadata": {},
   "outputs": [
    {
     "name": "stdout",
     "output_type": "stream",
     "text": [
      "Enter Size of Array : 5\n",
      "\n",
      "Please Inputs  5  Elements in Array\n",
      "\n",
      "Enter Element at arr[0] index : 1\n",
      "Enter Element at arr[1] index : 2\n",
      "Enter Element at arr[2] index : 3\n",
      "Enter Element at arr[3] index : 4\n",
      "Enter Element at arr[4] index : 5\n",
      "\n",
      "Original Array is :  1 2 3 4 5 \n",
      "\n",
      "Reverse Array is  :  5 4 3 2 1 "
     ]
    }
   ],
   "source": [
    "import numpy as np \n",
    "\n",
    "n  = int(input(\"Enter Size of Array : \"))\n",
    "\n",
    "arr = np.ndarray(shape = (n,) , dtype = int)\n",
    "\n",
    "print(\"\\nPlease Inputs \" , n , \" Elements in Array\" )\n",
    "print()\n",
    "\n",
    "for i in range(0, n):\n",
    "     arr[i] = int(input(\"Enter Element at arr[%d] index : \" %i ))\n",
    "\n",
    "print()\n",
    "print(\"Original Array is : \", end=\" \")\n",
    "\n",
    "for i in range(0, n):\n",
    "    print(arr[i], end=\" \")\n",
    "    \n",
    "print()\n",
    "print(\"\\nReverse Array is  : \", end=\" \")\n",
    "\n",
    "for i in range(n - 1, -1 , -1):\n",
    "    print(arr[i] , end=\" \")"
   ]
  },
  {
   "cell_type": "code",
   "execution_count": 7,
   "id": "2e048651",
   "metadata": {},
   "outputs": [
    {
     "name": "stdout",
     "output_type": "stream",
     "text": [
      "Enter Size of Array : 5\n",
      "\n",
      "Please Inputs  5  Elements in Array\n",
      "\n",
      "Enter Element at arr[0] index : 50\n",
      "Enter Element at arr[1] index : 40\n",
      "Enter Element at arr[2] index : 30\n",
      "Enter Element at arr[3] index : 20\n",
      "Enter Element at arr[4] index : 10\n",
      "\n",
      "Original Array is :  50 40 30 20 10 \n",
      "\n",
      "Reverse Array is  :  10 20 30 40 50 "
     ]
    }
   ],
   "source": [
    "def ReverseArray(arr):\n",
    "    \n",
    "    print()\n",
    "    print(\"\\nReverse Array is  : \", end=\" \")\n",
    "    \n",
    "    for i in range(len(arr) - 1, -1 , -1):\n",
    "        print(arr[i] , end=\" \")\n",
    "\n",
    "\n",
    "n  = int(input(\"Enter Size of Array : \"))\n",
    "\n",
    "arr = np.ndarray(shape = (n,) , dtype = int)\n",
    "\n",
    "print(\"\\nPlease Inputs \" , n , \" Elements in Array\" )\n",
    "print()\n",
    "\n",
    "for i in range(0, n):\n",
    "     arr[i] = int(input(\"Enter Element at arr[%d] index : \" %i ))\n",
    "\n",
    "print()\n",
    "print(\"Original Array is : \", end=\" \")\n",
    "\n",
    "for i in range(0, n):\n",
    "    print(arr[i], end=\" \")\n",
    "    \n",
    "ReverseArray(arr)"
   ]
  }
 ],
 "metadata": {
  "kernelspec": {
   "display_name": "Python 3 (ipykernel)",
   "language": "python",
   "name": "python3"
  },
  "language_info": {
   "codemirror_mode": {
    "name": "ipython",
    "version": 3
   },
   "file_extension": ".py",
   "mimetype": "text/x-python",
   "name": "python",
   "nbconvert_exporter": "python",
   "pygments_lexer": "ipython3",
   "version": "3.9.13"
  }
 },
 "nbformat": 4,
 "nbformat_minor": 5
}
