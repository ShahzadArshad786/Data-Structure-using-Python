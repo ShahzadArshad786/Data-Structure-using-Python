{
 "cells": [
  {
   "cell_type": "markdown",
   "id": "d6325019",
   "metadata": {},
   "source": [
    "#### Write a Python program to copy all elements of one array into another array. "
   ]
  },
  {
   "cell_type": "code",
   "execution_count": 1,
   "id": "6dac19dd",
   "metadata": {},
   "outputs": [],
   "source": [
    " import numpy as np"
   ]
  },
  {
   "cell_type": "code",
   "execution_count": 2,
   "id": "6cd88b38",
   "metadata": {},
   "outputs": [
    {
     "name": "stdout",
     "output_type": "stream",
     "text": [
      "Enter Size of the Array : 5\n",
      "\n",
      "Enter Element at arr[0] index : 1\n",
      "Enter Element at arr[1] index : 2\n",
      "Enter Element at arr[2] index : 3\n",
      "Enter Element at arr[3] index : 4\n",
      "Enter Element at arr[4] index : 5\n",
      "\n",
      "Original Array :  1 2 3 4 5 \n",
      "\n",
      "Copied Array   :  1 2 3 4 5 "
     ]
    }
   ],
   "source": [
    "n = int(input(\"Enter Size of the Array : \"))\n",
    "        \n",
    "arr = np.ndarray( n , dtype=int)\n",
    "\n",
    "print()\n",
    "\n",
    "for i in range(0, n):\n",
    "    arr[i] = int(input(\"Enter Element at arr[%d] index : \" %i))\n",
    "\n",
    "\n",
    "arr2 = np.ndarray(shape = (n,) , dtype = int)\n",
    "print(\"\\nOriginal Array : \" , end =\" \")\n",
    "\n",
    "for i in range(0, n):\n",
    "    print(arr[i] , end = \" \")\n",
    "\n",
    "for i in range(0, n):\n",
    "    \n",
    "    arr2[i] = arr[i]\n",
    "\n",
    "print(\"\\n\\nCopied Array   : \", end =\" \")\n",
    "\n",
    "for i in range(0, n):\n",
    "    print(arr2[i] , end =\" \")"
   ]
  }
 ],
 "metadata": {
  "kernelspec": {
   "display_name": "Python 3 (ipykernel)",
   "language": "python",
   "name": "python3"
  },
  "language_info": {
   "codemirror_mode": {
    "name": "ipython",
    "version": 3
   },
   "file_extension": ".py",
   "mimetype": "text/x-python",
   "name": "python",
   "nbconvert_exporter": "python",
   "pygments_lexer": "ipython3",
   "version": "3.9.13"
  }
 },
 "nbformat": 4,
 "nbformat_minor": 5
}
