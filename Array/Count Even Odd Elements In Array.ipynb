{
 "cells": [
  {
   "cell_type": "markdown",
   "id": "aab17888",
   "metadata": {},
   "source": [
    "#### Write a Python Program that inputs N numbers of array elements and count how many even and odd elements in a given array of integers."
   ]
  },
  {
   "cell_type": "code",
   "execution_count": 3,
   "id": "27ef044d",
   "metadata": {},
   "outputs": [
    {
     "name": "stdout",
     "output_type": "stream",
     "text": [
      "Enter Size of the Array : 5\n",
      "\n",
      "Input  5  Elements in the Array\n",
      "\n",
      "Enter Element at index arr[0] : 5\n",
      "Enter Element at index arr[1] : 7\n",
      "Enter Element at index arr[2] : 2\n",
      "Enter Element at index arr[3] : 4\n",
      "Enter Element at index arr[4] : 9\n",
      "\n",
      "Original Array     :  5 7 2 4 9 \n",
      "\n",
      "Total Even Numbers :  2\n",
      "\n",
      "Total Odd  Numbers :  3\n"
     ]
    }
   ],
   "source": [
    "# Count Even and Odd Numbers in Array\n",
    "\n",
    "import numpy as np \n",
    "\n",
    "even = 0\n",
    "odd  = 0\n",
    "\n",
    "n = int(input(\"Enter Size of the Array : \"))\n",
    "\n",
    "arr = np.ndarray(shape=(n,), dtype=int)\n",
    "\n",
    "print(\"\\nInput \",n, \" Elements in the Array\\n\")\n",
    "\n",
    "for i in range(0,n):\n",
    "    arr[i] = int(input(\"Enter Element at index arr[%d] : \" %i))\n",
    "    \n",
    "\n",
    "print(\"\\nOriginal Array     : \", end = \" \")\n",
    "for i in range(n):\n",
    "    print(arr[i] , end = \" \")\n",
    "\n",
    "\n",
    "for i in range(0, n):\n",
    "    if(arr[i] % 2 == 0):\n",
    "        even = even + 1\n",
    "    else:\n",
    "        odd = odd + 1 \n",
    "        \n",
    "print(\"\\n\\nTotal Even Numbers : \" , even)\n",
    "print(\"\\nTotal Odd  Numbers : \" , odd)"
   ]
  }
 ],
 "metadata": {
  "kernelspec": {
   "display_name": "Python 3 (ipykernel)",
   "language": "python",
   "name": "python3"
  },
  "language_info": {
   "codemirror_mode": {
    "name": "ipython",
    "version": 3
   },
   "file_extension": ".py",
   "mimetype": "text/x-python",
   "name": "python",
   "nbconvert_exporter": "python",
   "pygments_lexer": "ipython3",
   "version": "3.9.13"
  }
 },
 "nbformat": 4,
 "nbformat_minor": 5
}
