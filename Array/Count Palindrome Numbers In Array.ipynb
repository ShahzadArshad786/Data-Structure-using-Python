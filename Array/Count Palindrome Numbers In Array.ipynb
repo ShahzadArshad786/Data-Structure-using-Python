{
 "cells": [
  {
   "cell_type": "markdown",
   "id": "deab36d2",
   "metadata": {},
   "source": [
    "#### Write a Python Program that inputs N numbers of array elements and display the all Palindrome  numbers from the array."
   ]
  },
  {
   "cell_type": "code",
   "execution_count": 3,
   "id": "8ac343e7",
   "metadata": {},
   "outputs": [
    {
     "name": "stdout",
     "output_type": "stream",
     "text": [
      "Enter Size of the Array : 5\n",
      "\n",
      "Input  5  Elements in the Array\n",
      "\n",
      "Enter Element at index arr[0] : 182\n",
      "Enter Element at index arr[1] : 12321\n",
      "Enter Element at index arr[2] : 84\n",
      "Enter Element at index arr[3] : 424\n",
      "Enter Element at index arr[4] : 271\n",
      "\n",
      "Original Array     :  182 12321 84 424 271 \n",
      "\n",
      "Palindrome Numbers :  12321 424 "
     ]
    }
   ],
   "source": [
    "# Find all Palindrome Numbers from Array\n",
    "\n",
    "import numpy as np \n",
    "\n",
    "k = 0\n",
    "\n",
    "n = int(input(\"Enter Size of the Array : \"))\n",
    "\n",
    "print(\"\\nInput \",n, \" Elements in the Array\\n\")\n",
    "\n",
    "arr = np.ndarray(shape=(n,), dtype=int) \n",
    "arr1 = np.ndarray(shape=(n,), dtype=int)\n",
    "\n",
    "\n",
    "for i in range(0,n):\n",
    "    arr[i] = int(input(\"Enter Element at index arr[%d] : \" %i))\n",
    "\n",
    "print(\"\\nOriginal Array     : \", end = \" \")\n",
    "for i in range(n):\n",
    "    print(arr[i] , end = \" \")\n",
    "\n",
    "for i in range(0, n):\n",
    "    \n",
    "    rev = 0\n",
    "    j = arr[i]\n",
    "    \n",
    "    while(j != 0):\n",
    "        digit = j % 10 \n",
    "        rev = (rev * 10) + digit \n",
    "        j = j // 10\n",
    "        \n",
    "    if(rev == arr[i]):\n",
    "        arr1[k] = arr[i]\n",
    "        k = k + 1 \n",
    "        \n",
    "if k > 0:\n",
    "    \n",
    "    print(\"\\n\\nPalindrome Numbers : \",end = \" \")\n",
    "    for i in range(k):\n",
    "        print(arr1[i], end = \" \")\n",
    "        \n",
    "else:\n",
    "    \n",
    "    print(\"\\n\\nNo Palindrome Number found in the Array\\n\")"
   ]
  }
 ],
 "metadata": {
  "kernelspec": {
   "display_name": "Python 3 (ipykernel)",
   "language": "python",
   "name": "python3"
  },
  "language_info": {
   "codemirror_mode": {
    "name": "ipython",
    "version": 3
   },
   "file_extension": ".py",
   "mimetype": "text/x-python",
   "name": "python",
   "nbconvert_exporter": "python",
   "pygments_lexer": "ipython3",
   "version": "3.9.13"
  }
 },
 "nbformat": 4,
 "nbformat_minor": 5
}
