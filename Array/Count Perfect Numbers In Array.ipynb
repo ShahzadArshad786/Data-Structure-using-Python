{
 "cells": [
  {
   "cell_type": "markdown",
   "id": "ab8c312c",
   "metadata": {},
   "source": [
    "#### Write a Python Program that inputs N numbers of array elements and display the all pefect numbers from the array."
   ]
  },
  {
   "cell_type": "code",
   "execution_count": 2,
   "id": "74a61a3c",
   "metadata": {},
   "outputs": [
    {
     "name": "stdout",
     "output_type": "stream",
     "text": [
      "Enter Size of Array : 10\n",
      "\n",
      "Enter 10 Elements in the Array\n",
      "\n",
      "Input Array Element at index arr[0] : 1\n",
      "Input Array Element at index arr[1] : 2\n",
      "Input Array Element at index arr[2] : 3\n",
      "Input Array Element at index arr[3] : 4\n",
      "Input Array Element at index arr[4] : 5\n",
      "Input Array Element at index arr[5] : 6\n",
      "Input Array Element at index arr[6] : 7\n",
      "Input Array Element at index arr[7] : 8\n",
      "Input Array Element at index arr[8] : 9\n",
      "Input Array Element at index arr[9] : 10\n",
      "\n",
      "Original Array List : 1 2 3 4 5 6 7 8 9 10 \n",
      "\n",
      "Perfect Numbers are : 6 "
     ]
    }
   ],
   "source": [
    "# Print All Perfect Numbers from the Array\n",
    "\n",
    "import numpy as np \n",
    "\n",
    "n = int(input(\"Enter Size of Array : \"))\n",
    "\n",
    "arr = np.ndarray(shape=(n,) , dtype=int)\n",
    "\n",
    "print(\"\\nEnter\", n, \"Elements in the Array\\n\")\n",
    "\n",
    "for i in range(n):\n",
    "    arr[i] = int(input(\"Input Array Element at index arr[%d] : \" %i))\n",
    "\n",
    "print(\"\\nOriginal Array List : \", end=\"\")\n",
    "for i in range(n):\n",
    "    print(arr[i], end=\" \")\n",
    "\n",
    "k = 0\n",
    "\n",
    "arr1 = np.ndarray(shape=(n,) , dtype=int)\n",
    "\n",
    "for i in range(n):\n",
    "    sum = 0\n",
    "    for j in range(1, arr[i]):\n",
    "        if arr[i] % j == 0:\n",
    "            sum = sum + j\n",
    "    if sum == arr[i]:\n",
    "        arr1[k] = arr[i]\n",
    "        k = k + 1\n",
    "\n",
    "if k > 0:\n",
    "    \n",
    "    print(\"\\n\\nPerfect Numbers are : \", end=\"\")\n",
    "    for i in range(k):\n",
    "        print(arr1[i], end=\" \")\n",
    "else:\n",
    "    \n",
    "    print(\"\\n\\nNo Perfect Number found in the Array\")"
   ]
  }
 ],
 "metadata": {
  "kernelspec": {
   "display_name": "Python 3 (ipykernel)",
   "language": "python",
   "name": "python3"
  },
  "language_info": {
   "codemirror_mode": {
    "name": "ipython",
    "version": 3
   },
   "file_extension": ".py",
   "mimetype": "text/x-python",
   "name": "python",
   "nbconvert_exporter": "python",
   "pygments_lexer": "ipython3",
   "version": "3.9.13"
  }
 },
 "nbformat": 4,
 "nbformat_minor": 5
}
