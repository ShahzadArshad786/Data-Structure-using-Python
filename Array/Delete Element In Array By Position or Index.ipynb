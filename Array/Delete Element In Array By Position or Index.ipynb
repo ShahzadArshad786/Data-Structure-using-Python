{
 "cells": [
  {
   "cell_type": "markdown",
   "id": "0d726668",
   "metadata": {},
   "source": [
    "#### Write a Python program to Delete an Element from an Array by using index/position of the element. "
   ]
  },
  {
   "cell_type": "code",
   "execution_count": 5,
   "id": "fe2b19cc",
   "metadata": {},
   "outputs": [
    {
     "name": "stdout",
     "output_type": "stream",
     "text": [
      "Enter Size of an Array : 5\n",
      "\n",
      "Input 5  Elements in the Array\n",
      "\n",
      "Input Array Element at Index arr[0] : 1\n",
      "Input Array Element at Index arr[1] : 2\n",
      "Input Array Element at Index arr[2] : 3\n",
      "Input Array Element at Index arr[3] : 4\n",
      "Input Array Element at Index arr[4] : 5\n",
      "\n",
      "Enter position / index of Element You Want to Delete : 3\n",
      "\n",
      "Original Array   : 1  2  3  4  5  \n",
      "\n",
      "New/Update Array : 1  2  3  5  \n",
      "\n"
     ]
    }
   ],
   "source": [
    "import numpy as np \n",
    "\n",
    "n = int(input(\"Enter Size of an Array : \"))\n",
    "\n",
    "arr = np.ndarray(shape = (n,) , dtype = int)\n",
    "\n",
    "print(\"\\nInput\" , n , \" Elements in the Array\\n\")\n",
    "\n",
    "for i in range(0 , n):\n",
    "    arr[i] = int(input(\"Input Array Element at Index arr[%d] : \" %i))\n",
    "\n",
    "\n",
    "pos = int(input(\"\\nEnter position / index of Element You Want to Delete : \"))\n",
    "\n",
    "if pos < 0 or pos > n - 1:\n",
    "    print(\"\\nInvalid Position. Try Again\")\n",
    "    \n",
    "else:\n",
    "    print(\"\\nOriginal Array   : \", end=\"\")\n",
    "    for i in range(n):\n",
    "        print(arr[i], end=\"  \")\n",
    "\n",
    "    for i in range(pos, n - 1):\n",
    "        arr[i] = arr[i+1]\n",
    "\n",
    "    print(\"\\n\\nNew/Update Array : \", end=\"\")\n",
    "    for i in range(n - 1):\n",
    "        print(arr[i], end=\"  \")\n",
    "    print(\"\\n\")\n",
    "\n"
   ]
  }
 ],
 "metadata": {
  "kernelspec": {
   "display_name": "Python 3 (ipykernel)",
   "language": "python",
   "name": "python3"
  },
  "language_info": {
   "codemirror_mode": {
    "name": "ipython",
    "version": 3
   },
   "file_extension": ".py",
   "mimetype": "text/x-python",
   "name": "python",
   "nbconvert_exporter": "python",
   "pygments_lexer": "ipython3",
   "version": "3.9.13"
  }
 },
 "nbformat": 4,
 "nbformat_minor": 5
}
