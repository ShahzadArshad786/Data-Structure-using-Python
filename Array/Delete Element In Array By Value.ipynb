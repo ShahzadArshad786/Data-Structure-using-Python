{
 "cells": [
  {
   "cell_type": "markdown",
   "id": "12bfda52",
   "metadata": {},
   "source": [
    "#### Write a Python program to Delete an Element from an Array by value."
   ]
  },
  {
   "cell_type": "code",
   "execution_count": 1,
   "id": "ce4df77c",
   "metadata": {},
   "outputs": [
    {
     "name": "stdout",
     "output_type": "stream",
     "text": [
      "Enter Size of the Array : 4\n",
      "\n",
      "Input 4  Elements in the Array\n",
      "\n",
      "Input Array Element at Index arr[0] : 12\n",
      "Input Array Element at Index arr[1] : 15\n",
      "Input Array Element at Index arr[2] : 33\n",
      "Input Array Element at Index arr[3] : 19\n",
      "\n",
      "Original Array : 12  15  33  19  \n",
      "\n",
      "Enter Array Element You Want to Delete : 15\n",
      "\n",
      "Updated Array  : 12 33 19 "
     ]
    }
   ],
   "source": [
    "import numpy as np \n",
    "\n",
    "n = int(input(\"Enter Size of the Array : \"))\n",
    "\n",
    "arr = np.ndarray(shape = (n,) , dtype = int)\n",
    "\n",
    "print(\"\\nInput\" , n , \" Elements in the Array\\n\")\n",
    "\n",
    "for i in range(0 , n):\n",
    "    arr[i] = int(input(\"Input Array Element at Index arr[%d] : \" %i))\n",
    "\n",
    "print(\"\\nOriginal Array : \", end=\"\")\n",
    "for i in range(n):\n",
    "    print(arr[i], end=\"  \")\n",
    "\n",
    "item = int(input(\"\\n\\nEnter Array Element You Want to Delete : \"))\n",
    "\n",
    "count = 0\n",
    "for i in range(n):\n",
    "    if item == arr[i]:\n",
    "        for j in range(i, n - 1):\n",
    "            arr[j] = arr[j + 1]\n",
    "            \n",
    "        count = count + 1\n",
    "        break\n",
    "\n",
    "if count == 0:\n",
    "    \n",
    "    print(\"\\nElement not found in the Array\")\n",
    "    \n",
    "else:\n",
    "    print(\"\\nUpdated Array  : \", end=\"\")\n",
    "    for i in range(n - 1):\n",
    "        print(arr[i], end=\" \")"
   ]
  }
 ],
 "metadata": {
  "kernelspec": {
   "display_name": "Python 3 (ipykernel)",
   "language": "python",
   "name": "python3"
  },
  "language_info": {
   "codemirror_mode": {
    "name": "ipython",
    "version": 3
   },
   "file_extension": ".py",
   "mimetype": "text/x-python",
   "name": "python",
   "nbconvert_exporter": "python",
   "pygments_lexer": "ipython3",
   "version": "3.9.13"
  }
 },
 "nbformat": 4,
 "nbformat_minor": 5
}
