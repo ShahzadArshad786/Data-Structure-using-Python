{
 "cells": [
  {
   "cell_type": "markdown",
   "id": "f61c854d",
   "metadata": {},
   "source": [
    "#### Write a Pyhton Program to insert a new element at the end of the array."
   ]
  },
  {
   "cell_type": "code",
   "execution_count": 18,
   "id": "e6b2abdd",
   "metadata": {},
   "outputs": [
    {
     "name": "stdout",
     "output_type": "stream",
     "text": [
      "Enter Size of the Array : 5\n",
      "\n",
      "Input 5  Elements in the Array\n",
      "\n",
      "Input Array Element at index arr[0] : 1\n",
      "Input Array Element at index arr[1] : 2\n",
      "Input Array Element at index arr[2] : 3\n",
      "Input Array Element at index arr[3] : 4\n",
      "Input Array Element at index arr[4] : 5\n",
      "\n",
      "Original Array : 1 2 3 4 5 \n",
      "\n",
      "Enter Element you want to insert : 6\n",
      "\n",
      "Updated Array  : 1 2 3 4 5 6 "
     ]
    }
   ],
   "source": [
    "# Insert Element at the end of the Array\n",
    "\n",
    "import numpy as np \n",
    " \n",
    "n = int(input(\"Enter Size of the Array : \"))\n",
    "\n",
    "arr = np.ndarray(shape = (n,) , dtype = int)\n",
    "\n",
    "print(\"\\nInput\" , n , \" Elements in the Array\\n\")\n",
    "\n",
    "for i in range(0, n):\n",
    "    arr[i] = int(input(\"Input Array Element at index arr[%d] : \" %i))\n",
    "    \n",
    "\n",
    "print(\"\\nOriginal Array : \", end=\"\")\n",
    "for i in range(n):\n",
    "    print(arr[i], end=\" \")\n",
    "\n",
    "element = int(input(\"\\n\\nEnter Element you want to insert : \"))\n",
    "\n",
    "# Increment size of array\n",
    "n = n + 1 \n",
    "\n",
    "arr2 = np.ndarray(shape = (n,) , dtype = int)\n",
    "\n",
    "# Copy Input array to other array \n",
    "for i in range(0, n-1):\n",
    "    arr2[i] = arr[i]\n",
    "\n",
    "# Add the element at the end of the array\n",
    "arr2[n - 1] = element \n",
    "\n",
    "\n",
    "# Print the New / Updated array\n",
    "print(\"\\nUpdated Array  : \", end=\"\")\n",
    "for i in range(n):\n",
    "    print(arr2[i], end=\" \")"
   ]
  }
 ],
 "metadata": {
  "kernelspec": {
   "display_name": "Python 3 (ipykernel)",
   "language": "python",
   "name": "python3"
  },
  "language_info": {
   "codemirror_mode": {
    "name": "ipython",
    "version": 3
   },
   "file_extension": ".py",
   "mimetype": "text/x-python",
   "name": "python",
   "nbconvert_exporter": "python",
   "pygments_lexer": "ipython3",
   "version": "3.9.13"
  }
 },
 "nbformat": 4,
 "nbformat_minor": 5
}
