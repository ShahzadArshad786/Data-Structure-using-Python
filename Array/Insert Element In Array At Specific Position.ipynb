{
 "cells": [
  {
   "cell_type": "markdown",
   "id": "5cc44c39",
   "metadata": {},
   "source": [
    "#### Write a Pyhton Program to insert a new element into an array at a specific position. "
   ]
  },
  {
   "cell_type": "code",
   "execution_count": 6,
   "id": "2d8f923b",
   "metadata": {},
   "outputs": [
    {
     "name": "stdout",
     "output_type": "stream",
     "text": [
      "Enter Size of the Array : 5\n",
      "\n",
      "Input 5  Elements in the Array\n",
      "\n",
      "Input Array Element at index arr[0] : 1\n",
      "Input Array Element at index arr[1] : 2\n",
      "Input Array Element at index arr[2] : 3\n",
      "Input Array Element at index arr[3] : 5\n",
      "Input Array Element at index arr[4] : 6\n",
      "\n",
      "Original Array : 1 2 3 5 6 \n",
      "\n",
      "Enter Element you want to insert : 4\n",
      "\n",
      "Enter the position where to insert an element: 3\n",
      "\n",
      "Updated Array  : 1 2 3 4 5 6 "
     ]
    }
   ],
   "source": [
    "# Insert Element at the Specific Position  of the Array\n",
    "\n",
    "import numpy as np \n",
    "\n",
    "n = int(input(\"Enter Size of the Array : \"))\n",
    "\n",
    "arr = np.ndarray(shape = (n,) , dtype = int)\n",
    "\n",
    "print(\"\\nInput\" , n , \" Elements in the Array\\n\")\n",
    "\n",
    "for i in range(0, n):\n",
    "    arr[i] = int(input(\"Input Array Element at index arr[%d] : \" %i))\n",
    "\n",
    "print(\"\\nOriginal Array : \", end=\"\")\n",
    "for i in range(n):\n",
    "    print(arr[i], end=\" \")\n",
    "\n",
    "element = int(input(\"\\n\\nEnter Element you want to insert : \"))\n",
    "\n",
    "pos = int(input(\"\\nEnter the position where to insert an element : \"))\n",
    "\n",
    "if(pos < 0 or pos > n - 1):\n",
    "    print(\"\\nInvalid Position, Try Again \")\n",
    "    print(\"\\nPlease enter position between 0 to \", n - 1)\n",
    "else: \n",
    "    # Increment size of the array\n",
    "    n = n + 1 \n",
    "    arr2 = np.ndarray(shape = (n,) , dtype = int)\n",
    "    \n",
    "    # Copy Input array to other array \n",
    "    for i in range(0, n-1):\n",
    "        arr2[i] = arr[i]\n",
    "        i = n - 1 \n",
    "    \n",
    "    # Shift all elements one position from (input position) to the right \n",
    "    while (i > pos):\n",
    "        arr2[i] = arr[i - 1]\n",
    "        i = i - 1\n",
    "        \n",
    "    # Add the element at the specific position of the array\n",
    "    arr2[pos] = element \n",
    "    \n",
    "    # Print the New / Updated array\n",
    "    print(\"\\nUpdated Array  : \", end=\"\")\n",
    "    \n",
    "    for i in range(n):\n",
    "        print(arr2[i], end=\" \")"
   ]
  }
 ],
 "metadata": {
  "kernelspec": {
   "display_name": "Python 3 (ipykernel)",
   "language": "python",
   "name": "python3"
  },
  "language_info": {
   "codemirror_mode": {
    "name": "ipython",
    "version": 3
   },
   "file_extension": ".py",
   "mimetype": "text/x-python",
   "name": "python",
   "nbconvert_exporter": "python",
   "pygments_lexer": "ipython3",
   "version": "3.9.13"
  }
 },
 "nbformat": 4,
 "nbformat_minor": 5
}
