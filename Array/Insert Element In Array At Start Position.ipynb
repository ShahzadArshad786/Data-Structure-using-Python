{
 "cells": [
  {
   "cell_type": "markdown",
   "id": "65569712",
   "metadata": {},
   "source": [
    "#### Write a Pyhton Program to insert a new element into an array at a 1st or Start position. "
   ]
  },
  {
   "cell_type": "code",
   "execution_count": 2,
   "id": "1376674f",
   "metadata": {},
   "outputs": [
    {
     "name": "stdout",
     "output_type": "stream",
     "text": [
      "Enter Size of the Array : 5\n",
      "\n",
      "Input 5  Elements in the Array\n",
      "\n",
      "Input Array Element at index arr[0] : 2\n",
      "Input Array Element at index arr[1] : 3\n",
      "Input Array Element at index arr[2] : 4\n",
      "Input Array Element at index arr[3] : 5\n",
      "Input Array Element at index arr[4] : 6\n",
      "\n",
      "Original Array : 2 3 4 5 6 \n",
      "\n",
      "Enter Element you want to insert : 1\n",
      "\n",
      "Updated Array  : 1 2 3 4 5 6 "
     ]
    }
   ],
   "source": [
    "# Insert Element at the beginning of the Array\n",
    "import numpy as np \n",
    "\n",
    "n = int(input(\"Enter Size of the Array : \"))\n",
    "\n",
    "arr = np.ndarray(shape = (n,) , dtype = int)\n",
    "\n",
    "print(\"\\nInput\" , n , \" Elements in the Array\\n\")\n",
    "\n",
    "for i in range(0, n):\n",
    "    arr[i] = int(input(\"Input Array Element at index arr[%d] : \" %i))\n",
    "\n",
    "\n",
    "print(\"\\nOriginal Array : \", end=\"\")\n",
    "for i in range(n):\n",
    "    print(arr[i], end=\" \")\n",
    "\n",
    "element = int(input(\"\\n\\nEnter Element you want to insert : \"))\n",
    "\n",
    "# Increment size of the array\n",
    "n = n + 1 \n",
    "\n",
    "arr2 = np.ndarray(shape = (n,) , dtype = int)\n",
    "\n",
    "# Shift all elements one position to the right\n",
    "i = n - 1 \n",
    "while (i >= 1):\n",
    "    arr2[i] = arr[i-1]\n",
    "    i = i - 1\n",
    "    \n",
    "# Add the element at the beginning of the array\n",
    "arr2[0] = element \n",
    "\n",
    "# Print the New / Updated array\n",
    "print(\"\\nUpdated Array  : \", end=\"\")\n",
    "for i in range(n):\n",
    "    print(arr2[i], end=\" \")"
   ]
  }
 ],
 "metadata": {
  "kernelspec": {
   "display_name": "Python 3 (ipykernel)",
   "language": "python",
   "name": "python3"
  },
  "language_info": {
   "codemirror_mode": {
    "name": "ipython",
    "version": 3
   },
   "file_extension": ".py",
   "mimetype": "text/x-python",
   "name": "python",
   "nbconvert_exporter": "python",
   "pygments_lexer": "ipython3",
   "version": "3.9.13"
  }
 },
 "nbformat": 4,
 "nbformat_minor": 5
}
