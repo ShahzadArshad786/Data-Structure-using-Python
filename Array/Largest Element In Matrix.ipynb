{
 "cells": [
  {
   "cell_type": "code",
   "execution_count": 1,
   "id": "66ad38c2",
   "metadata": {},
   "outputs": [
    {
     "name": "stdout",
     "output_type": "stream",
     "text": [
      "Enter No. Of Rows    : 3\n",
      "Enter No. Of Columns : 3\n",
      "\n",
      "Enter 9 Array of Elements : \n",
      "\n",
      "Enter Element at arr[0][0] : 17\n",
      "Enter Element at arr[0][1] : 6\n",
      "Enter Element at arr[0][2] : 12\n",
      "Enter Element at arr[1][0] : 15\n",
      "Enter Element at arr[1][1] : 76\n",
      "Enter Element at arr[1][2] : 4\n",
      "Enter Element at arr[2][0] : 8\n",
      "Enter Element at arr[2][1] : 52\n",
      "Enter Element at arr[2][2] : 9\n",
      "\n",
      "2-D Array/Matrix : \n",
      "\n",
      "17 \t 6 \t 12 \t \n",
      "15 \t 76 \t 4 \t \n",
      "8 \t 52 \t 9 \t \n",
      "\n",
      "Largest Element :  76\n"
     ]
    }
   ],
   "source": [
    "import numpy as np \n",
    "\n",
    "r = int(input(\"Enter No. Of Rows    : \"))\n",
    "c = int(input(\"Enter No. Of Columns : \"))\n",
    "\n",
    "arr = np.ndarray(shape = (r,c) , dtype = int) \n",
    "\n",
    "print(\"\\nEnter\", r * c , \"Array of Elements : \\n\")\n",
    "\n",
    "for i in range(0, r):\n",
    "    for j in range(0, c):\n",
    "        arr[i][j] = int(input(\"Enter Element at arr[%d][%d] : \" %(i,j)))\n",
    "\n",
    "print(\"\\n2-D Array/Matrix : \\n\")\n",
    "for i in range(0 , r):\n",
    "    for j in range(0 , c):\n",
    "        print(arr[i][j] , \"\\t\", end = \" \")\n",
    "    print()\n",
    "    \n",
    "max = arr[0][0]  \n",
    "for i in range(0, r):\n",
    "    for j in range(0, c):\n",
    "        if(arr[i][j] > max ):\n",
    "            max  = arr[i][j]\n",
    "            \n",
    "print(\"\\nLargest Element : \" , max)"
   ]
  }
 ],
 "metadata": {
  "kernelspec": {
   "display_name": "Python 3 (ipykernel)",
   "language": "python",
   "name": "python3"
  },
  "language_info": {
   "codemirror_mode": {
    "name": "ipython",
    "version": 3
   },
   "file_extension": ".py",
   "mimetype": "text/x-python",
   "name": "python",
   "nbconvert_exporter": "python",
   "pygments_lexer": "ipython3",
   "version": "3.9.13"
  }
 },
 "nbformat": 4,
 "nbformat_minor": 5
}
