{
 "cells": [
  {
   "cell_type": "markdown",
   "id": "9847fc34",
   "metadata": {},
   "source": [
    "#### Write a Python Program that inputs two arrays with same size and display the product of both arrays."
   ]
  },
  {
   "cell_type": "code",
   "execution_count": 2,
   "id": "9d65dcde",
   "metadata": {},
   "outputs": [
    {
     "name": "stdout",
     "output_type": "stream",
     "text": [
      "Enter Size of the Array : 3\n",
      "\n",
      "Input 1st Array : \n",
      "\n",
      "Enter Element at arr1[0] index : 1\n",
      "Enter Element at arr1[1] index : 2\n",
      "Enter Element at arr1[2] index : 3\n",
      "\n",
      "Input 2nd Array : \n",
      "\n",
      "Enter Element at arr2[0] index : 1\n",
      "Enter Element at arr2[1] index : 2\n",
      "Enter Element at arr2[2] index : 3\n",
      "\n",
      "1st Array Elements    :  1 2 3 \n",
      "\n",
      "2nd Array Elements    :  1 2 3 \n",
      "\n",
      "Product of Two Arrays :  1 4 9 "
     ]
    }
   ],
   "source": [
    "import numpy as np\n",
    "\n",
    "n = int(input(\"Enter Size of the Array : \"))\n",
    "        \n",
    "arr1 = np.ndarray(shape = (n) , dtype = int)\n",
    "        \n",
    "print(\"\\nInput 1st Array : \\n\")\n",
    "\n",
    "for i in range(0, n):\n",
    "    arr1[i] = int(input(\"Enter Element at arr1[%d] index : \" %i))\n",
    "\n",
    "\n",
    "arr2 = np.ndarray(shape = (n,) , dtype = int)\n",
    "\n",
    "print(\"\\nInput 2nd Array : \\n\")\n",
    "\n",
    "for i in range(0, n):\n",
    "    arr2[i] = int(input(\"Enter Element at arr2[%d] index : \" %i))\n",
    "\n",
    "print(\"\\n1st Array Elements    : \" , end =\" \")\n",
    "for i in range(0, n):\n",
    "    print(arr1[i] , end = \" \")\n",
    "\n",
    "print(\"\\n\\n2nd Array Elements    : \" , end =\" \")\n",
    "for i in range(0, n):\n",
    "    print(arr2[i] , end = \" \")\n",
    "\n",
    "        \n",
    "print(\"\\n\\nProduct of Two Arrays : \", end =\" \")\n",
    "\n",
    "for i in range(0, n):\n",
    "    print(arr1[i] * arr2[i] , end =\" \")"
   ]
  }
 ],
 "metadata": {
  "kernelspec": {
   "display_name": "Python 3 (ipykernel)",
   "language": "python",
   "name": "python3"
  },
  "language_info": {
   "codemirror_mode": {
    "name": "ipython",
    "version": 3
   },
   "file_extension": ".py",
   "mimetype": "text/x-python",
   "name": "python",
   "nbconvert_exporter": "python",
   "pygments_lexer": "ipython3",
   "version": "3.9.13"
  }
 },
 "nbformat": 4,
 "nbformat_minor": 5
}
