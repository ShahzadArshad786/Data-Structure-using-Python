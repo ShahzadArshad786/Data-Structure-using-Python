{
 "cells": [
  {
   "cell_type": "markdown",
   "id": "28632a7b",
   "metadata": {},
   "source": [
    "#### Write a Python code to find the Smallest Element from the Array."
   ]
  },
  {
   "cell_type": "code",
   "execution_count": 1,
   "id": "5aa2157e",
   "metadata": {},
   "outputs": [],
   "source": [
    "import numpy as np "
   ]
  },
  {
   "cell_type": "code",
   "execution_count": 2,
   "id": "e29abec4",
   "metadata": {},
   "outputs": [
    {
     "name": "stdout",
     "output_type": "stream",
     "text": [
      "\n",
      "Original Array :  2 6 3 1 8 4 10 9 7 5 \n",
      "\n",
      "Smallest Element:  1\n"
     ]
    }
   ],
   "source": [
    "arr = np.array ([2, 6, 3, 1, 8, 4, 10, 9, 7, 5])\n",
    "n = len(arr)\n",
    "\n",
    "print('\\nOriginal Array : ' , end = \" \")            \n",
    "for i in range(0 , n):\n",
    "    print(arr[i] , end= \" \")\n",
    "\n",
    "min = arr[0]\n",
    "for i in range(0 , n):\n",
    "    \n",
    "        if( arr[i] < min ):\n",
    "            \n",
    "            min = arr[i]\n",
    "            \n",
    "print('\\n\\nSmallest Element: ' , min) "
   ]
  },
  {
   "cell_type": "markdown",
   "id": "6c766555",
   "metadata": {},
   "source": [
    "#### Write a Python Program that inputs N Number of Elements and find the Smallest Element from the Array."
   ]
  },
  {
   "cell_type": "code",
   "execution_count": 3,
   "id": "2f2cb92d",
   "metadata": {},
   "outputs": [
    {
     "name": "stdout",
     "output_type": "stream",
     "text": [
      "Enter Size of Array : 10\n",
      "\n",
      "Please Inputs  10  Elements in the Array\n",
      "\n",
      "Enter Element at arr[0] index : 5\n",
      "Enter Element at arr[1] index : -3\n",
      "Enter Element at arr[2] index : 7\n",
      "Enter Element at arr[3] index : 6\n",
      "Enter Element at arr[4] index : 2\n",
      "Enter Element at arr[5] index : 1\n",
      "Enter Element at arr[6] index : 8\n",
      "Enter Element at arr[7] index : 3\n",
      "Enter Element at arr[8] index : 0\n",
      "Enter Element at arr[9] index : 4\n",
      "\n",
      "Original Array is :  5 -3 7 6 2 1 8 3 0 4 \n",
      "\n",
      "Smallest Element :  -3\n"
     ]
    }
   ],
   "source": [
    "n = int(input(\"Enter Size of Array : \"))\n",
    "\n",
    "arr = np.ndarray(shape = (n,) , dtype = int)\n",
    "\n",
    "print(\"\\nPlease Inputs \" , n , \" Elements in the Array\\n\" )\n",
    "\n",
    "for i in range(0, n):\n",
    "    arr[i] = int(input(\"Enter Element at arr[%d] index : \" %i))\n",
    "   \n",
    "    \n",
    "print('\\nOriginal Array is : ' , end = \" \")            \n",
    "for i in range(0 , n):\n",
    "    print(arr[i] , end= \" \")\n",
    "\n",
    "\n",
    "min = arr[0]\n",
    "for i in range(0 , n):\n",
    "    \n",
    "        if( arr[i] < min ):\n",
    "            \n",
    "            min = arr[i]\n",
    "            \n",
    "print('\\n\\nSmallest Element : ' , min)"
   ]
  },
  {
   "cell_type": "code",
   "execution_count": 9,
   "id": "cc6b8cdc",
   "metadata": {},
   "outputs": [
    {
     "name": "stdout",
     "output_type": "stream",
     "text": [
      "Enter Size of Array : 8\n",
      "\n",
      "Please Inputs  8  Elements in the Array\n",
      "\n",
      "Enter Element at arr[0] index : 12\n",
      "Enter Element at arr[1] index : 25\n",
      "Enter Element at arr[2] index : 8\n",
      "Enter Element at arr[3] index : 55\n",
      "Enter Element at arr[4] index : 10\n",
      "Enter Element at arr[5] index : 37\n",
      "Enter Element at arr[6] index : 11\n",
      "Enter Element at arr[7] index : 17\n",
      "\n",
      "Original Array   :  12 25 8 55 10 37 11 17 \n",
      "\n",
      "Smallest Element :  8\n"
     ]
    }
   ],
   "source": [
    "def SmallestElement(arr):\n",
    "    \n",
    "    print('\\nOriginal Array   : ' , end = \" \")\n",
    "    for i in range(0, len(arr)):\n",
    "        print(arr[i] , end= \" \")\n",
    "        \n",
    "    min = arr[0]\n",
    "    for i in range(0 , n):\n",
    "        if( arr[i] < min ):\n",
    "            min = arr[i]\n",
    "    print('\\n\\nSmallest Element : ' , min)\n",
    "\n",
    "n = int(input(\"Enter Size of Array : \"))\n",
    "\n",
    "arr = np.ndarray(shape = (n,) , dtype = int)\n",
    "\n",
    "print(\"\\nPlease Inputs \" , n , \" Elements in the Array\\n\" )\n",
    "\n",
    "for i in range(0, n):\n",
    "    arr[i] = int(input(\"Enter Element at arr[%d] index : \" %i))\n",
    "    \n",
    "SmallestElement(arr)"
   ]
  }
 ],
 "metadata": {
  "kernelspec": {
   "display_name": "Python 3 (ipykernel)",
   "language": "python",
   "name": "python3"
  },
  "language_info": {
   "codemirror_mode": {
    "name": "ipython",
    "version": 3
   },
   "file_extension": ".py",
   "mimetype": "text/x-python",
   "name": "python",
   "nbconvert_exporter": "python",
   "pygments_lexer": "ipython3",
   "version": "3.9.13"
  }
 },
 "nbformat": 4,
 "nbformat_minor": 5
}
