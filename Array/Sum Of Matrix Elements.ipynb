{
 "cells": [
  {
   "cell_type": "code",
   "execution_count": 1,
   "id": "3c573226",
   "metadata": {},
   "outputs": [
    {
     "name": "stdout",
     "output_type": "stream",
     "text": [
      "Enter No. Of Rows    : 3\n",
      "Enter No. Of Columns : 5\n",
      "\n",
      "Enter 15 Array of Elements : \n",
      "\n",
      "Enter Element at arr[0][0] : 1\n",
      "Enter Element at arr[0][1] : 2\n",
      "Enter Element at arr[0][2] : 3\n",
      "Enter Element at arr[0][3] : 4\n",
      "Enter Element at arr[0][4] : 5\n",
      "Enter Element at arr[1][0] : 6\n",
      "Enter Element at arr[1][1] : 7\n",
      "Enter Element at arr[1][2] : 8\n",
      "Enter Element at arr[1][3] : 9\n",
      "Enter Element at arr[1][4] : 10\n",
      "Enter Element at arr[2][0] : 11\n",
      "Enter Element at arr[2][1] : 12\n",
      "Enter Element at arr[2][2] : 13\n",
      "Enter Element at arr[2][3] : 14\n",
      "Enter Element at arr[2][4] : 15\n",
      "\n",
      "2-D Array/Matrix : \n",
      "\n",
      "1 \t 2 \t 3 \t 4 \t 5 \t \n",
      "6 \t 7 \t 8 \t 9 \t 10 \t \n",
      "11 \t 12 \t 13 \t 14 \t 15 \t \n",
      "\n",
      "Sum Of Matrix Elements :  120\n"
     ]
    }
   ],
   "source": [
    "import numpy as np \n",
    "\n",
    "r = int(input(\"Enter No. Of Rows    : \"))\n",
    "c = int(input(\"Enter No. Of Columns : \"))\n",
    "\n",
    "arr = np.ndarray(shape = (r,c) , dtype = int) \n",
    "\n",
    "print(\"\\nEnter\", r * c , \"Array of Elements : \\n\")\n",
    "\n",
    "for i in range(0, r):\n",
    "    for j in range(0, c):\n",
    "        arr[i][j] = int(input(\"Enter Element at arr[%d][%d] : \" %(i,j)))\n",
    "\n",
    "print(\"\\n2-D Array/Matrix : \\n\")\n",
    "for i in range(0 , r):\n",
    "    for j in range(0 , c):\n",
    "        print(arr[i][j] , \"\\t\", end = \" \")\n",
    "    print()\n",
    "    \n",
    "sum = 0 \n",
    "\n",
    "for i in range(0, r):\n",
    "    for j in range(0, c):\n",
    "        sum = sum + arr[i][j]\n",
    "            \n",
    "print(\"\\nSum Of Matrix Elements : \" , sum)"
   ]
  }
 ],
 "metadata": {
  "kernelspec": {
   "display_name": "Python 3 (ipykernel)",
   "language": "python",
   "name": "python3"
  },
  "language_info": {
   "codemirror_mode": {
    "name": "ipython",
    "version": 3
   },
   "file_extension": ".py",
   "mimetype": "text/x-python",
   "name": "python",
   "nbconvert_exporter": "python",
   "pygments_lexer": "ipython3",
   "version": "3.9.13"
  }
 },
 "nbformat": 4,
 "nbformat_minor": 5
}
