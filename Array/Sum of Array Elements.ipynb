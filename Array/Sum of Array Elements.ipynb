{
 "cells": [
  {
   "cell_type": "code",
   "execution_count": 1,
   "id": "75908f35",
   "metadata": {},
   "outputs": [],
   "source": [
    "import numpy as np"
   ]
  },
  {
   "cell_type": "code",
   "execution_count": 2,
   "id": "c01cdf92",
   "metadata": {},
   "outputs": [
    {
     "name": "stdout",
     "output_type": "stream",
     "text": [
      "Enter Size of the Array : 5\n",
      "\n",
      "Please input  5  Elements in the Array\n",
      "\n",
      "Enter Element at arr[0] index : 1\n",
      "Enter Element at arr[1] index : 2\n",
      "Enter Element at arr[2] index : 3\n",
      "Enter Element at arr[3] index : 4\n",
      "Enter Element at arr[4] index : 5\n",
      "\n",
      "Input Array Elements  :  1  2  3  4  5  \n",
      "\n",
      "Sum of Array Elements :  15\n"
     ]
    }
   ],
   "source": [
    "n = int(input(\"Enter Size of the Array : \"))\n",
    "\n",
    "arr = np.ndarray(shape = (n,) , dtype = int)\n",
    "\n",
    "print(\"\\nPlease input \" , n , \" Elements in the Array\\n\")\n",
    "\n",
    "for i in range(0, n):\n",
    "    arr[i] = int(input(\"Enter Element at arr[%d] index : \" %i))\n",
    "\n",
    "print(\"\\nInput Array Elements  : \" , end = \" \")\n",
    "for i in range(0 , len(arr)):\n",
    "    print(arr[i] , end = \"  \")\n",
    "        \n",
    "sum = 0\n",
    "\n",
    "for i in range (0, n):\n",
    "    sum = sum + arr[i] \n",
    "    \n",
    "print(\"\\n\\nSum of Array Elements : \" , sum)"
   ]
  },
  {
   "cell_type": "code",
   "execution_count": 3,
   "id": "0165afc4",
   "metadata": {},
   "outputs": [
    {
     "name": "stdout",
     "output_type": "stream",
     "text": [
      "Enter Size of the Array : 5\n",
      "\n",
      "Please input  5  Elements in the Array\n",
      "\n",
      "Enter Element at arr[0] index : 1\n",
      "Enter Element at arr[1] index : 3\n",
      "Enter Element at arr[2] index : 5\n",
      "Enter Element at arr[3] index : 7\n",
      "Enter Element at arr[4] index : 9\n",
      "\n",
      "Input Array Elements  :  1  3  5  7  9  \n",
      "\n",
      "Sum of Array Elements :  25\n"
     ]
    }
   ],
   "source": [
    "def SumOfArrayElements(arr):\n",
    "    sum = 0\n",
    "    print(\"\\nInput Array Elements  : \" , end = \" \")\n",
    "    for i in range(0 , len(arr)):\n",
    "        print(arr[i] , end = \"  \")\n",
    "        \n",
    "    for i in range (len(arr)):\n",
    "        sum = sum + arr[i] \n",
    "    print(\"\\n\\nSum of Array Elements : \" , sum)\n",
    "\n",
    "    \n",
    "n = int(input(\"Enter Size of the Array : \"))\n",
    "\n",
    "arr = np.ndarray(shape = (n,) , dtype = int)\n",
    "\n",
    "print(\"\\nPlease input \" , n , \" Elements in the Array\\n\")\n",
    "\n",
    "for i in range(0, n):\n",
    "    arr[i] = int(input(\"Enter Element at arr[%d] index : \" %i))\n",
    "    \n",
    "SumOfArrayElements(arr)"
   ]
  }
 ],
 "metadata": {
  "kernelspec": {
   "display_name": "Python 3 (ipykernel)",
   "language": "python",
   "name": "python3"
  },
  "language_info": {
   "codemirror_mode": {
    "name": "ipython",
    "version": 3
   },
   "file_extension": ".py",
   "mimetype": "text/x-python",
   "name": "python",
   "nbconvert_exporter": "python",
   "pygments_lexer": "ipython3",
   "version": "3.9.13"
  }
 },
 "nbformat": 4,
 "nbformat_minor": 5
}
