{
 "cells": [
  {
   "cell_type": "markdown",
   "id": "c96ae343",
   "metadata": {},
   "source": [
    "#### Write a Python program to implement Binary Search. "
   ]
  },
  {
   "cell_type": "code",
   "execution_count": 1,
   "id": "ebfd6321",
   "metadata": {},
   "outputs": [],
   "source": [
    "import numpy as np"
   ]
  },
  {
   "cell_type": "code",
   "execution_count": 5,
   "id": "d55c35e0",
   "metadata": {},
   "outputs": [
    {
     "name": "stdout",
     "output_type": "stream",
     "text": [
      "Enter Length of Array: 10\n",
      "\n",
      "Input  10  values in Ascending Order\n",
      "\n",
      "5\n",
      "10\n",
      "15\n",
      "20\n",
      "25\n",
      "30\n",
      "35\n",
      "40\n",
      "45\n",
      "50\n",
      "Enter the Value for Search: 35\n",
      "35 is found at index 6\n"
     ]
    }
   ],
   "source": [
    "arr = []\n",
    "\n",
    "n = int(input(\"Enter Length of Array: \"))\n",
    "start = 0 \n",
    "end = n - 1\n",
    "print(\"\\nInput \" , n , \" values in Ascending Order\\n\")\n",
    "for i in range(0, n):\n",
    "    x = int(input())\n",
    "    arr = np.append( arr, x)\n",
    "\n",
    "\n",
    "val = int(input(\"Enter the Value for Search: \"))\n",
    "\n",
    "loc = -1\n",
    "mid = 0 \n",
    "\n",
    "while (start <= end):\n",
    "    \n",
    "    mid = int(start + end)//2\n",
    "    \n",
    "    if arr[mid] == val:\n",
    "        loc = mid\n",
    "        break\n",
    "        \n",
    "    elif (val < arr[mid]):\n",
    "        end = mid - 1\n",
    "        \n",
    "    else:\n",
    "        start = mid + 1\n",
    "\n",
    "               \n",
    "if loc != -1:\n",
    "    \n",
    "    print (val , \"is found at index\" , loc)\n",
    "\n",
    "else:\n",
    "    \n",
    "    print(val, \" is not found in Array\")\n",
    "        "
   ]
  },
  {
   "cell_type": "markdown",
   "id": "e72f3852",
   "metadata": {},
   "source": [
    "#### Write a Python function to implement Binary Search. "
   ]
  },
  {
   "cell_type": "code",
   "execution_count": 3,
   "id": "3f0cbb4f",
   "metadata": {},
   "outputs": [
    {
     "name": "stdout",
     "output_type": "stream",
     "text": [
      "Enter Length of Array: 10\n",
      "\n",
      "Input  10  values in Ascending Order\n",
      "\n",
      "3\n",
      "5\n",
      "7\n",
      "9\n",
      "12\n",
      "15\n",
      "16\n",
      "18\n",
      "19\n",
      "22\n",
      "Input Array is : \n",
      "\n",
      "Index\tValue\n",
      "0 \t 3\n",
      "1 \t 5\n",
      "2 \t 7\n",
      "3 \t 9\n",
      "4 \t 12\n",
      "5 \t 15\n",
      "6 \t 16\n",
      "7 \t 18\n",
      "8 \t 19\n",
      "9 \t 22\n",
      "\n",
      "Enter the Value for Search: 16\n",
      "16 is found at index 6\n"
     ]
    }
   ],
   "source": [
    "import numpy as np\n",
    "\n",
    "def Binary_Search(arr, x , val):\n",
    "    start = 0 \n",
    "    end = x - 1 \n",
    "    loc = - 1 \n",
    "    mid = 0 \n",
    "    \n",
    "    while (start <= end):\n",
    "        mid = int(start + end)//2\n",
    "        \n",
    "        if arr[mid] == val:\n",
    "            loc = mid\n",
    "            break\n",
    "        \n",
    "        elif (val < arr[mid]):\n",
    "            end = mid - 1\n",
    "        \n",
    "        else:\n",
    "            start = mid + 1\n",
    "    return loc \n",
    "\n",
    "arr = []\n",
    "\n",
    "n = int(input(\"Enter Length of Array: \"))\n",
    "\n",
    "print(\"\\nInput \" , n , \" values in Ascending Order\\n\")\n",
    "for i in range(0, n):\n",
    "    x = int(input())\n",
    "    arr = np.append( arr, x)\n",
    "\n",
    "print(\"Input Array is : \")\n",
    "print()\n",
    "print(\"Index\\tValue\")\n",
    "for i in range(0 , n):\n",
    "    print(i,\"\\t\" , int(arr[i]))\n",
    "\n",
    "print()\n",
    "val = int(input(\"Enter the Value for Search: \"))    \n",
    "res = Binary_Search(arr , n , val)\n",
    "\n",
    "if res != -1:\n",
    "    \n",
    "    print (val , \"is found at index\" , res)\n",
    "\n",
    "else:\n",
    "    \n",
    "    print(val, \" is not found in Array\")"
   ]
  }
 ],
 "metadata": {
  "kernelspec": {
   "display_name": "Python 3 (ipykernel)",
   "language": "python",
   "name": "python3"
  },
  "language_info": {
   "codemirror_mode": {
    "name": "ipython",
    "version": 3
   },
   "file_extension": ".py",
   "mimetype": "text/x-python",
   "name": "python",
   "nbconvert_exporter": "python",
   "pygments_lexer": "ipython3",
   "version": "3.9.13"
  }
 },
 "nbformat": 4,
 "nbformat_minor": 5
}
