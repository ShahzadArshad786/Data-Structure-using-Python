{
 "cells": [
  {
   "cell_type": "code",
   "execution_count": 3,
   "id": "95e86c19",
   "metadata": {},
   "outputs": [],
   "source": [
    "import numpy as np "
   ]
  },
  {
   "cell_type": "code",
   "execution_count": 4,
   "id": "c139e042",
   "metadata": {},
   "outputs": [
    {
     "name": "stdout",
     "output_type": "stream",
     "text": [
      "Original Array is : \n",
      "14 46 43 27 57 41 45 21 95 70 \n",
      "\n",
      "Sorted Array is : \n",
      "14 21 27 41 43 45 46 57 70 95 "
     ]
    }
   ],
   "source": [
    "arr = np.array ([14, 46, 43, 27, 57, 41, 45, 21, 95, 70])\n",
    "n = len(arr)\n",
    "\n",
    "print('Original Array is : ')            \n",
    "for i in range(0 , n):\n",
    "    print(arr[i] , end= \" \")\n",
    "\n",
    "for i in range(0, n - 1):\n",
    "    for j in range(n - 1):\n",
    "        if(arr[j] > arr[j + 1]):\n",
    "            temp = arr[j] \n",
    "            arr[j] = arr[j + 1]\n",
    "            arr[j+1] = temp\n",
    "\n",
    "print('\\n\\nSorted Array is : ')            \n",
    "for i in range(0 , n):\n",
    "    print(arr[i] , end= \" \")"
   ]
  },
  {
   "cell_type": "code",
   "execution_count": 5,
   "id": "93ef7f4c",
   "metadata": {},
   "outputs": [
    {
     "name": "stdout",
     "output_type": "stream",
     "text": [
      "Enter Length of Array: 15\n",
      "\n",
      "Please input  15  numbers in Array\n",
      "10\n",
      "5\n",
      "2\n",
      "7\n",
      "3\n",
      "15\n",
      "12\n",
      "18\n",
      "40\n",
      "32\n",
      "24\n",
      "70\n",
      "100\n",
      "95\n",
      "75\n",
      "Original Array is : \n",
      "10 5 2 7 3 15 12 18 40 32 24 70 100 95 75 \n",
      "\n",
      "Sorted Array is : \n",
      "2 3 5 7 10 12 15 18 24 32 40 70 75 95 100 "
     ]
    }
   ],
   "source": [
    "arr = []\n",
    "\n",
    "n = int(input(\"Enter Length of Array: \"))\n",
    "print(\"\\nPlease input \" , n , \" numbers in Array\" )\n",
    "for i in range(0, n):\n",
    "    x = int(input())\n",
    "    arr = np.append(arr, x)\n",
    "\n",
    "\n",
    "print('Original Array is : ')            \n",
    "for i in range(0 , n):\n",
    "    print(int(arr[i]) , end= \" \")\n",
    "\n",
    "for i in range(0, n - 1):\n",
    "    for j in range(n - 1):\n",
    "        if(arr[j] > arr[j + 1]):\n",
    "            temp = arr[j] \n",
    "            arr[j] = arr[j + 1]\n",
    "            arr[j+1] = temp\n",
    "\n",
    "print('\\n\\nSorted Array is : ')            \n",
    "for i in range(0 , n):\n",
    "    print(int(arr[i]) , end= \" \")"
   ]
  }
 ],
 "metadata": {
  "kernelspec": {
   "display_name": "Python 3 (ipykernel)",
   "language": "python",
   "name": "python3"
  },
  "language_info": {
   "codemirror_mode": {
    "name": "ipython",
    "version": 3
   },
   "file_extension": ".py",
   "mimetype": "text/x-python",
   "name": "python",
   "nbconvert_exporter": "python",
   "pygments_lexer": "ipython3",
   "version": "3.9.13"
  }
 },
 "nbformat": 4,
 "nbformat_minor": 5
}
