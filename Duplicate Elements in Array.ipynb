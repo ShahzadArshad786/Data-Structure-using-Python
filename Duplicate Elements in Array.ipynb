{
 "cells": [
  {
   "cell_type": "markdown",
   "id": "3c06e0d8",
   "metadata": {},
   "source": [
    "#### Write a Python program to find the  repeating/duplicate elements in a given array of integers and print total number of duplicate elements."
   ]
  },
  {
   "cell_type": "code",
   "execution_count": 1,
   "id": "aba4ab43",
   "metadata": {},
   "outputs": [],
   "source": [
    "import numpy as np "
   ]
  },
  {
   "cell_type": "code",
   "execution_count": 2,
   "id": "23402b65",
   "metadata": {},
   "outputs": [
    {
     "name": "stdout",
     "output_type": "stream",
     "text": [
      "Enter the size of the array: 11\n",
      "Input  11  Elements in the Array :\n",
      "1\n",
      "2\n",
      "3\n",
      "5\n",
      "5\n",
      "7\n",
      "8\n",
      "8\n",
      "9\n",
      "9\n",
      "2\n",
      "\n",
      "Duplicate Elements  are :  2 5 8 9 \n",
      "Total Number of Duplicate Elements  in Array :  4\n"
     ]
    }
   ],
   "source": [
    "arr = []\n",
    "count = 0\n",
    "\n",
    "n = int(input(\"Enter the size of the array: \"))\n",
    "print(\"Input \" , n ,\" Elements in the Array :\")\n",
    "\n",
    "for i in range(0,n):\n",
    "    x = int(input())\n",
    "    arr = np.append(arr, x)\n",
    "    \n",
    "print()\n",
    "print(\"Duplicate Elements  are : \" , end= \" \")\n",
    "\n",
    "for i in range(0 , n):\n",
    "    \n",
    "    for j in range(i+1 , n):\n",
    "        \n",
    "        if(arr[i] == arr[j]):\n",
    "            \n",
    "            count = count + 1\n",
    "            print(int(arr[i]) , end = \" \")\n",
    "            break\n",
    "print()\n",
    "if(count > 0):\n",
    "    \n",
    "    print(\"Total Number of Duplicate Elements  in Array : \", count)\n",
    "    \n",
    "else:\n",
    "    \n",
    "    print(\"No Duplicate Elements are found...\")"
   ]
  }
 ],
 "metadata": {
  "kernelspec": {
   "display_name": "Python 3 (ipykernel)",
   "language": "python",
   "name": "python3"
  },
  "language_info": {
   "codemirror_mode": {
    "name": "ipython",
    "version": 3
   },
   "file_extension": ".py",
   "mimetype": "text/x-python",
   "name": "python",
   "nbconvert_exporter": "python",
   "pygments_lexer": "ipython3",
   "version": "3.9.13"
  }
 },
 "nbformat": 4,
 "nbformat_minor": 5
}
