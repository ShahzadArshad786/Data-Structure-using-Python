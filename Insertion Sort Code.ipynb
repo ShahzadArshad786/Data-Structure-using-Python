{
 "cells": [
  {
   "cell_type": "code",
   "execution_count": 1,
   "id": "d352048f",
   "metadata": {},
   "outputs": [],
   "source": [
    "import numpy as np "
   ]
  },
  {
   "cell_type": "code",
   "execution_count": 12,
   "id": "0a444dd0",
   "metadata": {},
   "outputs": [
    {
     "name": "stdout",
     "output_type": "stream",
     "text": [
      "\n",
      "Original Array is : \n",
      "2 6 3 1 8 4 10 9 5 7 \n",
      "\n",
      "Sorted Array is : \n",
      "1 2 3 4 5 6 7 8 9 10 "
     ]
    }
   ],
   "source": [
    "arr = np.array ([2, 6, 3, 1, 8, 4, 10, 9, 5, 7])\n",
    "n = len(arr)\n",
    "\n",
    "print('Original Array is : ')            \n",
    "for i in range(0 , n):\n",
    "    print(arr[i] , end= \" \")\n",
    "\n",
    "for i in range(0 , n):\n",
    "    \n",
    "    temp = arr[i]\n",
    "    j = i - 1\n",
    "    \n",
    "    while(j >=0 and arr[j] > temp):\n",
    "        arr[j + 1] = arr[j]\n",
    "        j = j - 1\n",
    "    arr[j + 1] = temp \n",
    "       \n",
    "print('\\n\\nSorted Array is : ')            \n",
    "for i in range(0 , n):\n",
    "    print(arr[i] , end= \" \")"
   ]
  },
  {
   "cell_type": "code",
   "execution_count": 14,
   "id": "cba00bdc",
   "metadata": {},
   "outputs": [
    {
     "name": "stdout",
     "output_type": "stream",
     "text": [
      "Enter Length of Array: 15\n",
      "\n",
      "Please input  15  elements in Array\n",
      "10\n",
      "5\n",
      "2\n",
      "7\n",
      "3\n",
      "15\n",
      "12\n",
      "18\n",
      "40\n",
      "32\n",
      "24\n",
      "70\n",
      "100\n",
      "95\n",
      "75\n",
      "\n",
      "Original Array is : \n",
      "10 5 2 7 3 15 12 18 40 32 24 70 100 95 75 \n",
      "\n",
      "Sorted Array is : \n",
      "2 3 5 7 10 12 15 18 24 32 40 70 75 95 100 "
     ]
    }
   ],
   "source": [
    "arr = []\n",
    "\n",
    "n = int(input(\"Enter Length of Array: \"))\n",
    "print(\"\\nPlease input \" , n , \" elements in Array\" )\n",
    "for i in range(0, n):\n",
    "    x = int(input())\n",
    "    arr = np.append(arr, x)\n",
    "\n",
    "print('\\nOriginal Array is : ')            \n",
    "for i in range(0 , n):\n",
    "    print(int(arr[i]) , end= \" \")\n",
    "\n",
    "for i in range(0 , n):\n",
    "    \n",
    "    temp = arr[i]\n",
    "    j = i - 1\n",
    "    \n",
    "    while(j >=0 and arr[j] > temp):\n",
    "        arr[j + 1] = arr[j]\n",
    "        j = j - 1\n",
    "    arr[j + 1] = temp \n",
    "       \n",
    "print('\\n\\nSorted Array is : ')            \n",
    "for i in range(0 , n):\n",
    "    print(int(arr[i]) , end= \" \")"
   ]
  }
 ],
 "metadata": {
  "kernelspec": {
   "display_name": "Python 3 (ipykernel)",
   "language": "python",
   "name": "python3"
  },
  "language_info": {
   "codemirror_mode": {
    "name": "ipython",
    "version": 3
   },
   "file_extension": ".py",
   "mimetype": "text/x-python",
   "name": "python",
   "nbconvert_exporter": "python",
   "pygments_lexer": "ipython3",
   "version": "3.9.13"
  }
 },
 "nbformat": 4,
 "nbformat_minor": 5
}
