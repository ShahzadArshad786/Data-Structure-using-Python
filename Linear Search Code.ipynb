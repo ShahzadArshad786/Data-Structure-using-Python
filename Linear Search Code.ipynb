{
 "cells": [
  {
   "cell_type": "markdown",
   "id": "479387b3",
   "metadata": {},
   "source": [
    "#### Write a Python program that declare an array with unsorted elements and find the key value from the array. "
   ]
  },
  {
   "cell_type": "code",
   "execution_count": 1,
   "id": "bf476932",
   "metadata": {},
   "outputs": [],
   "source": [
    "import numpy as np "
   ]
  },
  {
   "cell_type": "code",
   "execution_count": 2,
   "id": "fa6a59a2",
   "metadata": {},
   "outputs": [
    {
     "name": "stdout",
     "output_type": "stream",
     "text": [
      "Original Array is : \n",
      "\n",
      "Index\tValue\n",
      "0 \t 10\n",
      "1 \t 5\n",
      "2 \t 2\n",
      "3 \t 7\n",
      "4 \t 3\n",
      "5 \t 15\n",
      "6 \t 12\n",
      "7 \t 18\n",
      "8 \t 40\n",
      "9 \t 32\n",
      "10 \t 24\n",
      "11 \t 70\n",
      "12 \t 100\n",
      "13 \t 90\n",
      "14 \t 75\n",
      "Enter an Searched Element : 18\n",
      "18 is found at index 7\n"
     ]
    }
   ],
   "source": [
    "arr = np.array([10, 5, 2, 7, 3, 15, 12, 18, 40, 32, 24, 70, 100, 90, 75])\n",
    "\n",
    "n = len(arr)\n",
    "\n",
    "print(\"Original Array is : \")\n",
    "print()\n",
    "print(\"Index\\tValue\")\n",
    "for i in range(0 , n):\n",
    "    print(i,\"\\t\" , int(arr[i]))\n",
    "\n",
    "loc = -1 \n",
    "\n",
    "val = int(input(\"Enter an Searched Element : \")) \n",
    "for j in range(0, n):\n",
    "    if arr[j] == val:\n",
    "        loc = j \n",
    "        break \n",
    "        \n",
    "\n",
    "if loc != -1:\n",
    "    \n",
    "    print (val , \"is found at index\" , loc)\n",
    "\n",
    "else:\n",
    "    \n",
    "    print(val, \" is not found in Array\")"
   ]
  },
  {
   "cell_type": "markdown",
   "id": "d560d976",
   "metadata": {},
   "source": [
    "#### Write a Python program that inputs size of an array, inputs data elements in array equal to the size of array and find the element from the array using for loop."
   ]
  },
  {
   "cell_type": "code",
   "execution_count": 3,
   "id": "f2dd2c09",
   "metadata": {},
   "outputs": [
    {
     "name": "stdout",
     "output_type": "stream",
     "text": [
      "Enter Size of Array: 10\n",
      "Input  10  Elements in Array :\n",
      "12\n",
      "9\n",
      "37\n",
      "86\n",
      "2\n",
      "17\n",
      "5\n",
      "10\n",
      "8\n",
      "20\n",
      "Input Array is : \n",
      "\n",
      "Index\tValue\n",
      "0 \t 12\n",
      "1 \t 9\n",
      "2 \t 37\n",
      "3 \t 86\n",
      "4 \t 2\n",
      "5 \t 17\n",
      "6 \t 5\n",
      "7 \t 10\n",
      "8 \t 8\n",
      "9 \t 20\n",
      "\n",
      "Enter the Value for Search: 5\n",
      "5 is found at index 6\n"
     ]
    }
   ],
   "source": [
    "arr = []\n",
    "\n",
    "n = int(input(\"Enter Size of Array: \"))\n",
    "\n",
    "print(\"Input \" , n , \" Elements in Array :\")\n",
    "for i in range(0, n):\n",
    "    x = int(input())\n",
    "    arr = np.append( arr, x)\n",
    "\n",
    "\n",
    "print(\"Input Array is : \")\n",
    "print()\n",
    "print(\"Index\\tValue\")\n",
    "for i in range(0 , n):\n",
    "    print(i,\"\\t\" , int(arr[i]))\n",
    "    \n",
    "    \n",
    "print()\n",
    "val = int(input(\"Enter the Value for Search: \"))\n",
    "loc = -1\n",
    "\n",
    "for j in range(0, n):\n",
    "    if arr[j] == val:\n",
    "        loc = j \n",
    "        break \n",
    "        \n",
    "\n",
    "if loc != -1:\n",
    "    \n",
    "    print (val , \"is found at index\" , loc)\n",
    "\n",
    "else:\n",
    "    \n",
    "    print(val, \" is not found in Array\")\n",
    "        "
   ]
  },
  {
   "cell_type": "markdown",
   "id": "ec4b9be6",
   "metadata": {},
   "source": [
    "#### Write a Python program that inputs size of an array, inputs data elements in array equal to the size of array and find the element from the array using while loop."
   ]
  },
  {
   "cell_type": "code",
   "execution_count": 5,
   "id": "27b19247",
   "metadata": {},
   "outputs": [
    {
     "name": "stdout",
     "output_type": "stream",
     "text": [
      "Enter Size of Array: 7\n",
      "Input  7  Elements in Array :\n",
      "12\n",
      "9\n",
      "37\n",
      "86\n",
      "2\n",
      "17\n",
      "5\n",
      "Input Array is : \n",
      "\n",
      "Index\tValue\n",
      "0 \t 12\n",
      "1 \t 9\n",
      "2 \t 37\n",
      "3 \t 86\n",
      "4 \t 2\n",
      "5 \t 17\n",
      "6 \t 5\n",
      "Enter the Value for Search: 17\n",
      "17 is found at index 5\n"
     ]
    }
   ],
   "source": [
    "arr = []\n",
    "start = 0\n",
    "n = int(input(\"Enter Size of Array: \"))\n",
    "print(\"Input \" , n , \" Elements in Array :\")\n",
    "\n",
    "while (start < n):\n",
    "    x = int(input())\n",
    "    arr = np.append( arr, x)\n",
    "    start = start + 1\n",
    "\n",
    "    \n",
    "print(\"Input Array is : \")\n",
    "print()\n",
    "print(\"Index\\tValue\")\n",
    "for i in range(0 , n):\n",
    "    print(i,\"\\t\" , int(arr[i]))    \n",
    "\n",
    "    \n",
    "val = int(input(\"Enter the Value for Search: \"))\n",
    "loc = -1\n",
    "\n",
    "\n",
    "s = 0 \n",
    "while(s < n):\n",
    "    if arr[s] == val:\n",
    "        loc = s\n",
    "        break \n",
    "    else:\n",
    "        s = s + 1\n",
    "\n",
    "if loc != -1:\n",
    "    \n",
    "    print (val , \"is found at index\" , loc)\n",
    "\n",
    "else:\n",
    "    \n",
    "    print(val, \" is not found in Array\")\n",
    "        "
   ]
  }
 ],
 "metadata": {
  "kernelspec": {
   "display_name": "Python 3 (ipykernel)",
   "language": "python",
   "name": "python3"
  },
  "language_info": {
   "codemirror_mode": {
    "name": "ipython",
    "version": 3
   },
   "file_extension": ".py",
   "mimetype": "text/x-python",
   "name": "python",
   "nbconvert_exporter": "python",
   "pygments_lexer": "ipython3",
   "version": "3.9.13"
  }
 },
 "nbformat": 4,
 "nbformat_minor": 5
}
