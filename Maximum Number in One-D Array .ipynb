{
 "cells": [
  {
   "cell_type": "code",
   "execution_count": 1,
   "id": "88b1e6d8",
   "metadata": {},
   "outputs": [],
   "source": [
    "import numpy as np "
   ]
  },
  {
   "cell_type": "code",
   "execution_count": 8,
   "id": "1c6ffe7b",
   "metadata": {},
   "outputs": [
    {
     "name": "stdout",
     "output_type": "stream",
     "text": [
      "\n",
      "Original Array is : \n",
      "\n",
      "2 6 3 1 8 4 10 9 7 5 \n",
      "\n",
      "Maximun Number in Array is :  10\n"
     ]
    }
   ],
   "source": [
    "arr = np.array ([2, 6, 3, 1, 8, 4, 10, 9, 7, 5])\n",
    "n = len(arr)\n",
    "\n",
    "print('\\nOriginal Array is : \\n')            \n",
    "for i in range(0 , n):\n",
    "    print(arr[i] , end= \" \")\n",
    "\n",
    "max = arr[0]\n",
    "for i in range(0 , n):\n",
    "    \n",
    "        if( arr[i] > max ):\n",
    "            \n",
    "            max = arr[i]\n",
    "            \n",
    "print('\\n\\nMaximum Number in Array is : ' , max)            "
   ]
  },
  {
   "cell_type": "code",
   "execution_count": 9,
   "id": "c5cb85f0",
   "metadata": {},
   "outputs": [
    {
     "name": "stdout",
     "output_type": "stream",
     "text": [
      "Enter Length of Array: 10\n",
      "\n",
      "Please input  10  elements in Array\n",
      "10\n",
      "20\n",
      "30\n",
      "40\n",
      "50\n",
      "100\n",
      "200\n",
      "60\n",
      "70\n",
      "80\n",
      "\n",
      "Original Array is : \n",
      "\n",
      "10 20 30 40 50 100 200 60 70 80 \n",
      "\n",
      "Maximun Number in Array is :  200\n"
     ]
    }
   ],
   "source": [
    "arr = []\n",
    "\n",
    "n = int(input(\"Enter Length of Array: \"))\n",
    "print(\"\\nPlease input \" , n , \" elements in Array\" )\n",
    "for i in range(0, n):\n",
    "    x = int(input())\n",
    "    arr = np.append(arr, x)\n",
    "    \n",
    "print('\\nOriginal Array is : \\n')            \n",
    "for i in range(0 , n):\n",
    "    print(int(arr[i]) , end= \" \")\n",
    "\n",
    "\n",
    "max = arr[0]\n",
    "for i in range(0 , n):\n",
    "    \n",
    "        if( arr[i] > max ):\n",
    "            \n",
    "            max = arr[i]\n",
    "            \n",
    "print('\\n\\nMaximum Number in Array is : ' , int(max))"
   ]
  }
 ],
 "metadata": {
  "kernelspec": {
   "display_name": "Python 3 (ipykernel)",
   "language": "python",
   "name": "python3"
  },
  "language_info": {
   "codemirror_mode": {
    "name": "ipython",
    "version": 3
   },
   "file_extension": ".py",
   "mimetype": "text/x-python",
   "name": "python",
   "nbconvert_exporter": "python",
   "pygments_lexer": "ipython3",
   "version": "3.9.13"
  }
 },
 "nbformat": 4,
 "nbformat_minor": 5
}
