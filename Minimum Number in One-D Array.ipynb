{
 "cells": [
  {
   "cell_type": "code",
   "execution_count": 3,
   "id": "a41cacdf",
   "metadata": {},
   "outputs": [],
   "source": [
    "import numpy as np "
   ]
  },
  {
   "cell_type": "code",
   "execution_count": 4,
   "id": "e29abec4",
   "metadata": {},
   "outputs": [
    {
     "name": "stdout",
     "output_type": "stream",
     "text": [
      "\n",
      "Original Array is : \n",
      "\n",
      "2 6 3 1 8 4 10 9 7 5 \n",
      "\n",
      "Minimum Number in Array is :  1\n"
     ]
    }
   ],
   "source": [
    "arr = np.array ([2, 6, 3, 1, 8, 4, 10, 9, 7, 5])\n",
    "n = len(arr)\n",
    "\n",
    "print('\\nOriginal Array is : \\n')            \n",
    "for i in range(0 , n):\n",
    "    print(arr[i] , end= \" \")\n",
    "\n",
    "min = arr[0]\n",
    "for i in range(0 , n):\n",
    "    \n",
    "        if( arr[i] < min ):\n",
    "            \n",
    "            min = arr[i]\n",
    "            \n",
    "print('\\n\\nMinimum Number in Array is : ' , min) "
   ]
  },
  {
   "cell_type": "code",
   "execution_count": 7,
   "id": "2f2cb92d",
   "metadata": {},
   "outputs": [
    {
     "name": "stdout",
     "output_type": "stream",
     "text": [
      "Enter Length of Array: 10\n",
      "\n",
      "Please input  10  elements in Array\n",
      "10\n",
      "5\n",
      "7\n",
      "9\n",
      "8\n",
      "1\n",
      "3\n",
      "4\n",
      "2\n",
      "6\n",
      "\n",
      "Original Array is : \n",
      "\n",
      "10 5 7 9 8 1 3 4 2 6 \n",
      "\n",
      "Minimum Number in Array is :  1\n"
     ]
    }
   ],
   "source": [
    "arr = []\n",
    "\n",
    "n = int(input(\"Enter Length of Array: \"))\n",
    "print(\"\\nPlease input \" , n , \" elements in Array\" )\n",
    "for i in range(0, n):\n",
    "    x = int(input())\n",
    "    arr = np.append(arr, x)\n",
    "    \n",
    "print('\\nOriginal Array is : \\n')            \n",
    "for i in range(0 , n):\n",
    "    print(int(arr[i]) , end= \" \")\n",
    "\n",
    "\n",
    "min = arr[0]\n",
    "for i in range(0 , n):\n",
    "    \n",
    "        if( arr[i] < min ):\n",
    "            \n",
    "            min = arr[i]\n",
    "            \n",
    "print('\\n\\nMinimum Number in Array is : ' , int(min))"
   ]
  }
 ],
 "metadata": {
  "kernelspec": {
   "display_name": "Python 3 (ipykernel)",
   "language": "python",
   "name": "python3"
  },
  "language_info": {
   "codemirror_mode": {
    "name": "ipython",
    "version": 3
   },
   "file_extension": ".py",
   "mimetype": "text/x-python",
   "name": "python",
   "nbconvert_exporter": "python",
   "pygments_lexer": "ipython3",
   "version": "3.9.13"
  }
 },
 "nbformat": 4,
 "nbformat_minor": 5
}
