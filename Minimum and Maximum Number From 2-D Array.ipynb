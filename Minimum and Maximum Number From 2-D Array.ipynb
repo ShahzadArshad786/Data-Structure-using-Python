{
 "cells": [
  {
   "cell_type": "markdown",
   "id": "02c18ead",
   "metadata": {},
   "source": [
    "#### Write a Python Program that displays the minimum and maximum number from 2-D Array. "
   ]
  },
  {
   "cell_type": "code",
   "execution_count": 1,
   "id": "cea04e9a",
   "metadata": {},
   "outputs": [
    {
     "name": "stdout",
     "output_type": "stream",
     "text": [
      "\n",
      "Minimum Number is :  1\n",
      "\n",
      "Maximum Number is :  15\n"
     ]
    }
   ],
   "source": [
    "import numpy as np \n",
    "\n",
    "arr = np.array([[1, 2, 3, 10, 15], [4, 5, 6, 11, 12], [7, 8, 9, 13, 14]])\n",
    "\n",
    "d = arr.shape\n",
    "r  , c = d \n",
    "\n",
    "min = max = arr[0][0]\n",
    "\n",
    "for i in range(0, r):\n",
    "    for j in range(0, c):\n",
    "        if ( arr[i][j] < min ):\n",
    "            min = arr[i][j]\n",
    "        if ( arr[i][j] >  max ):\n",
    "            max = arr[i][j]\n",
    "\n",
    "print(\"\\nMinimum Number is : \", min)\n",
    "    \n",
    "print(\"\\nMaximum Number is : \", max)"
   ]
  }
 ],
 "metadata": {
  "kernelspec": {
   "display_name": "Python 3 (ipykernel)",
   "language": "python",
   "name": "python3"
  },
  "language_info": {
   "codemirror_mode": {
    "name": "ipython",
    "version": 3
   },
   "file_extension": ".py",
   "mimetype": "text/x-python",
   "name": "python",
   "nbconvert_exporter": "python",
   "pygments_lexer": "ipython3",
   "version": "3.9.13"
  }
 },
 "nbformat": 4,
 "nbformat_minor": 5
}
