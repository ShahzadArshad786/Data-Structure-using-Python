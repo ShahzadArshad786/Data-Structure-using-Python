{
 "cells": [
  {
   "cell_type": "markdown",
   "id": "1e141024",
   "metadata": {},
   "source": [
    "#### Write a Python function that show the maximum number from an Array. "
   ]
  },
  {
   "cell_type": "code",
   "execution_count": 9,
   "id": "9b06744b",
   "metadata": {},
   "outputs": [],
   "source": [
    "import numpy as np "
   ]
  },
  {
   "cell_type": "code",
   "execution_count": 13,
   "id": "6337ff4c",
   "metadata": {},
   "outputs": [
    {
     "name": "stdout",
     "output_type": "stream",
     "text": [
      "Maximum Number is :  205\n"
     ]
    }
   ],
   "source": [
    "def Show_Max(arr):\n",
    "    n = len(arr)\n",
    "    max = arr[0]\n",
    "    for i in range(0, n):\n",
    "        if(arr[i] > max):\n",
    "            max = arr[i]\n",
    "    \n",
    "    print(\"Maximum Number is : \", max)\n",
    "\n",
    "arr = np.array([199, 150, 56, 5, 10, 2, 30, 95, 205, 100, 120, 145])\n",
    "Show_Max(arr)"
   ]
  },
  {
   "cell_type": "markdown",
   "id": "199de392",
   "metadata": {},
   "source": [
    "#### Write a Python function that show the minimum number from an Array.¶"
   ]
  },
  {
   "cell_type": "code",
   "execution_count": 15,
   "id": "7e190ecc",
   "metadata": {},
   "outputs": [
    {
     "name": "stdout",
     "output_type": "stream",
     "text": [
      "Minimum Number is :  2\n"
     ]
    }
   ],
   "source": [
    "def Show_Min(arr):\n",
    "    n = len(arr)\n",
    "    min = arr[0]\n",
    "    for i in range(0, n):\n",
    "        if(arr[i] < min):\n",
    "            min = arr[i]\n",
    "    \n",
    "    print(\"Minimum Number is : \", min)\n",
    "\n",
    "arr = np.array([199, 150, 56, 5, 10, 2, 30, 95, 205, 100, 120, 145])\n",
    "Show_Min(arr)"
   ]
  }
 ],
 "metadata": {
  "kernelspec": {
   "display_name": "Python 3 (ipykernel)",
   "language": "python",
   "name": "python3"
  },
  "language_info": {
   "codemirror_mode": {
    "name": "ipython",
    "version": 3
   },
   "file_extension": ".py",
   "mimetype": "text/x-python",
   "name": "python",
   "nbconvert_exporter": "python",
   "pygments_lexer": "ipython3",
   "version": "3.9.13"
  }
 },
 "nbformat": 4,
 "nbformat_minor": 5
}
