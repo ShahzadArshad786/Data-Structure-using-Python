{
 "cells": [
  {
   "cell_type": "markdown",
   "id": "c96ae343",
   "metadata": {},
   "source": [
    "#### Write a Python program to implement Binary Search. "
   ]
  },
  {
   "cell_type": "code",
   "execution_count": 1,
   "id": "ebfd6321",
   "metadata": {},
   "outputs": [],
   "source": [
    "import numpy as np"
   ]
  },
  {
   "cell_type": "code",
   "execution_count": 2,
   "id": "1d6cd145",
   "metadata": {},
   "outputs": [
    {
     "name": "stdout",
     "output_type": "stream",
     "text": [
      "Enter Size of the Array : 10\n",
      "\n",
      "Input  10  Elements in Ascending Order\n",
      "\n",
      "Enter Element at arr[0] index : 1\n",
      "Enter Element at arr[1] index : 3\n",
      "Enter Element at arr[2] index : 7\n",
      "Enter Element at arr[3] index : 15\n",
      "Enter Element at arr[4] index : 18\n",
      "Enter Element at arr[5] index : 20\n",
      "Enter Element at arr[6] index : 25\n",
      "Enter Element at arr[7] index : 33\n",
      "Enter Element at arr[8] index : 36\n",
      "Enter Element at arr[9] index : 40\n",
      "\n",
      "Enter Element to be Search : 20\n",
      "\n",
      "Element 20 is Present at Index 5\n"
     ]
    }
   ],
   "source": [
    "arr = []\n",
    "\n",
    "n = int(input(\"Enter Size of the Array : \"))\n",
    "start = 0 \n",
    "end = n - 1\n",
    "print(\"\\nInput \" , n , \" Elements in Ascending Order\\n\")\n",
    "\n",
    "for i in range(0, n):\n",
    "    x = int(input(\"Enter Element at arr[%d] index : \" %i))\n",
    "    arr = np.append( arr, x)\n",
    "\n",
    "\n",
    "val = int(input(\"\\nEnter Element to be Search : \"))\n",
    "\n",
    "loc = -1\n",
    "mid = 0 \n",
    "\n",
    "while (start <= end):\n",
    "    \n",
    "    mid = int(start + end)//2\n",
    "    \n",
    "    if arr[mid] == val:\n",
    "        loc = mid\n",
    "        break\n",
    "        \n",
    "    elif (val < arr[mid]):\n",
    "        end = mid - 1\n",
    "        \n",
    "    else:\n",
    "        start = mid + 1\n",
    "\n",
    "               \n",
    "if loc != -1:\n",
    "    print()\n",
    "    print (\"Element\" , val ,\"is Present at Index\" , loc)\n",
    "\n",
    "else:\n",
    "    print()\n",
    "    print(\"Element\" , val , \"is not Present in the Array \")\n",
    "        "
   ]
  },
  {
   "cell_type": "markdown",
   "id": "e72f3852",
   "metadata": {},
   "source": [
    "#### Write a Python function to implement Binary Search. "
   ]
  },
  {
   "cell_type": "code",
   "execution_count": 1,
   "id": "3f0cbb4f",
   "metadata": {},
   "outputs": [
    {
     "name": "stdout",
     "output_type": "stream",
     "text": [
      "Enter Size of the Array : 10\n",
      "\n",
      "Input  10  Elements in Ascending Order\n",
      "\n",
      "Enter Element at arr[0] index : 5\n",
      "Enter Element at arr[1] index : 10\n",
      "Enter Element at arr[2] index : 15\n",
      "Enter Element at arr[3] index : 20\n",
      "Enter Element at arr[4] index : 25\n",
      "Enter Element at arr[5] index : 30\n",
      "Enter Element at arr[6] index : 35\n",
      "Enter Element at arr[7] index : 40\n",
      "Enter Element at arr[8] index : 45\n",
      "Enter Element at arr[9] index : 50\n",
      "\n",
      "Enter  Element For Search : 45\n",
      "\n",
      "Element 45 is Present at Index 8\n"
     ]
    }
   ],
   "source": [
    "import numpy as np\n",
    "\n",
    "def Binary_Search(arr, x , val):\n",
    "    start = 0 \n",
    "    end = x - 1 \n",
    "    loc = - 1 \n",
    "    mid = 0 \n",
    "    \n",
    "    while (start <= end):\n",
    "        mid = int(start + end)//2\n",
    "        \n",
    "        if arr[mid] == val:\n",
    "            loc = mid\n",
    "            break\n",
    "        \n",
    "        elif (val < arr[mid]):\n",
    "            end = mid - 1\n",
    "        \n",
    "        else:\n",
    "            start = mid + 1\n",
    "    return loc \n",
    "\n",
    "arr = []\n",
    "\n",
    "n = int(input(\"Enter Size of the Array : \"))\n",
    "\n",
    "print(\"\\nInput \" , n , \" Elements in Ascending Order\\n\")\n",
    "\n",
    "for i in range(0, n):\n",
    "    x = int(input(\"Enter Element at arr[%d] index : \" %i))\n",
    "    arr = np.append( arr, x)\n",
    "\n",
    "\n",
    "print()\n",
    "val = int(input(\"\\nEnter Element to be Search : \"))    \n",
    "res = Binary_Search(arr , n , val)\n",
    "\n",
    "if res != -1:\n",
    "    \n",
    "    print (\"\\nElement\" , val ,\"is Present at Index\" , res)\n",
    "\n",
    "else:\n",
    "    \n",
    "    print(\"\\nElement\" , val , \"is not Present in the Array \")"
   ]
  }
 ],
 "metadata": {
  "kernelspec": {
   "display_name": "Python 3 (ipykernel)",
   "language": "python",
   "name": "python3"
  },
  "language_info": {
   "codemirror_mode": {
    "name": "ipython",
    "version": 3
   },
   "file_extension": ".py",
   "mimetype": "text/x-python",
   "name": "python",
   "nbconvert_exporter": "python",
   "pygments_lexer": "ipython3",
   "version": "3.9.13"
  }
 },
 "nbformat": 4,
 "nbformat_minor": 5
}
