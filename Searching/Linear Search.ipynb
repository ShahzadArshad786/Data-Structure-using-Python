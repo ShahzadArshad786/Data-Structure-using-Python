{
 "cells": [
  {
   "cell_type": "markdown",
   "id": "479387b3",
   "metadata": {},
   "source": [
    "#### Write a Python program that declare an array with unsorted elements and find the key value from the array. "
   ]
  },
  {
   "cell_type": "code",
   "execution_count": 2,
   "id": "bf476932",
   "metadata": {},
   "outputs": [],
   "source": [
    "import numpy as np "
   ]
  },
  {
   "cell_type": "code",
   "execution_count": 2,
   "id": "fa6a59a2",
   "metadata": {},
   "outputs": [
    {
     "name": "stdout",
     "output_type": "stream",
     "text": [
      "\n",
      "Original Array  : \n",
      "\n",
      "Index     :  Element\n",
      "arr[ 0 ]  :     10\n",
      "arr[ 1 ]  :     5\n",
      "arr[ 2 ]  :     2\n",
      "arr[ 3 ]  :     7\n",
      "arr[ 4 ]  :     3\n",
      "arr[ 5 ]  :     15\n",
      "arr[ 6 ]  :     12\n",
      "arr[ 7 ]  :     18\n",
      "arr[ 8 ]  :     40\n",
      "arr[ 9 ]  :     32\n",
      "arr[ 10 ]  :     24\n",
      "arr[ 11 ]  :     70\n",
      "arr[ 12 ]  :     100\n",
      "arr[ 13 ]  :     90\n",
      "arr[ 14 ]  :     75\n",
      "\n",
      "Enter Element to be Search : 70\n",
      "\n",
      "Element 70 is Present at Index 11\n"
     ]
    }
   ],
   "source": [
    "arr = np.array([10, 5, 2, 7, 3, 15, 12, 18, 40, 32, 24, 70, 100, 90, 75])\n",
    "\n",
    "n = len(arr)\n",
    "\n",
    "    \n",
    "print(\"\\nOriginal Array  : \\n\")\n",
    "print(\"Index     :  Element\")\n",
    "for i in range(0 , n):\n",
    "    print(\"arr[ %d ]  : \" %i , \"  \" , int(arr[i]))\n",
    "\n",
    "loc = -1 \n",
    "\n",
    "val = int(input(\"\\nEnter Element to be Search : \")) \n",
    "for j in range(0, n):\n",
    "    if arr[j] == val:\n",
    "        loc = j \n",
    "        break \n",
    "        \n",
    "\n",
    "if loc != -1:\n",
    "   \n",
    "    print (\"\\nElement\" , val ,\"is Present at Index\" , loc)\n",
    "\n",
    "else:\n",
    "    \n",
    "    print(\"\\nElement\" , val , \"is not Present in the Array \")"
   ]
  },
  {
   "cell_type": "markdown",
   "id": "d560d976",
   "metadata": {},
   "source": [
    "#### Write a Python program that inputs size of an array, inputs data elements in array equal to the size of array and find the element from the array using for loop."
   ]
  },
  {
   "cell_type": "code",
   "execution_count": 4,
   "id": "4b374a02",
   "metadata": {},
   "outputs": [
    {
     "name": "stdout",
     "output_type": "stream",
     "text": [
      "Enter Size of Array : 15\n",
      "\n",
      "Input  15  Elements in Array\n",
      "\n",
      "Enter Element at arr[0] index : 2\n",
      "Enter Element at arr[1] index : 4\n",
      "Enter Element at arr[2] index : 0\n",
      "Enter Element at arr[3] index : 2\n",
      "Enter Element at arr[4] index : 1\n",
      "Enter Element at arr[5] index : 19\n",
      "Enter Element at arr[6] index : 99\n",
      "Enter Element at arr[7] index : 97\n",
      "Enter Element at arr[8] index : 24\n",
      "Enter Element at arr[9] index : 241\n",
      "Enter Element at arr[10] index : 2419\n",
      "Enter Element at arr[11] index : 997\n",
      "Enter Element at arr[12] index : 199\n",
      "Enter Element at arr[13] index : 994\n",
      "Enter Element at arr[14] index : 94\n",
      "\n",
      "Enter Element to be Search : 24\n",
      "\n",
      "Element 24 is Present at Index 8\n"
     ]
    }
   ],
   "source": [
    " arr = []\n",
    "\n",
    "n = int(input(\"Enter Size of Array : \"))\n",
    "\n",
    "print(\"\\nInput \" , n , \" Elements in Array\\n\")\n",
    "\n",
    "for i in range(0, n):\n",
    "    x = int(input(\"Enter Element at arr[%d] index : \" %i))\n",
    "    arr = np.append( arr, x)\n",
    "\n",
    "\n",
    "print()\n",
    "val = int(input(\"Enter Element to be Search : \"))\n",
    "loc = -1\n",
    "\n",
    "for j in range(0, n):\n",
    "    if arr[j] == val:\n",
    "        loc = j \n",
    "        break \n",
    "        \n",
    "\n",
    "if loc != -1:\n",
    "    \n",
    "    print (\"\\nElement\" , val ,\"is Present at Index\" , loc)\n",
    "    \n",
    "else:\n",
    "    \n",
    "     print(\"\\nElement\" , val , \"is not Present in the Array \")"
   ]
  },
  {
   "cell_type": "markdown",
   "id": "ec4b9be6",
   "metadata": {},
   "source": [
    "#### Write a Python program that inputs size of an array, inputs data elements in array equal to the size of array and find the element from the array using while loop."
   ]
  },
  {
   "cell_type": "code",
   "execution_count": 3,
   "id": "27b19247",
   "metadata": {},
   "outputs": [
    {
     "name": "stdout",
     "output_type": "stream",
     "text": [
      "Enter Size of the Array : 7\n",
      "\n",
      "Input  7  Elements in Array\n",
      "\n",
      "Enter Element at arr[0] index : 12\n",
      "Enter Element at arr[1] index : 9\n",
      "Enter Element at arr[2] index : 37\n",
      "Enter Element at arr[3] index : 86\n",
      "Enter Element at arr[4] index : 2\n",
      "Enter Element at arr[5] index : 17\n",
      "Enter Element at arr[6] index : 5\n",
      "Enter Element to be Search : 11\n",
      "\n",
      "Element 11 is not Present in the Array \n"
     ]
    }
   ],
   "source": [
    "arr = []\n",
    "start = 0\n",
    "n = int(input(\"Enter Size of the Array : \"))\n",
    "\n",
    "print(\"\\nInput \" , n , \" Elements in Array\\n\")\n",
    "\n",
    "while (start < n):\n",
    "    x = int(input(\"Enter Element at arr[%d] index : \" %start))\n",
    "    arr = np.append( arr, x)\n",
    "    start = start + 1\n",
    "\n",
    "        \n",
    "val = int(input(\"Enter Element to be Search : \"))\n",
    "loc = -1\n",
    "\n",
    "\n",
    "s = 0 \n",
    "while(s < n):\n",
    "    if arr[s] == val:\n",
    "        loc = s\n",
    "        break \n",
    "    else:\n",
    "        s = s + 1\n",
    "\n",
    "if loc != -1:\n",
    "    \n",
    "    print (\"\\nElement\" , val ,\"is Present at Index\" , loc)\n",
    "\n",
    "else:\n",
    "    \n",
    "    print(\"\\nElement\" , val , \"is not Present in the Array \")\n",
    "        "
   ]
  }
 ],
 "metadata": {
  "kernelspec": {
   "display_name": "Python 3 (ipykernel)",
   "language": "python",
   "name": "python3"
  },
  "language_info": {
   "codemirror_mode": {
    "name": "ipython",
    "version": 3
   },
   "file_extension": ".py",
   "mimetype": "text/x-python",
   "name": "python",
   "nbconvert_exporter": "python",
   "pygments_lexer": "ipython3",
   "version": "3.9.13"
  }
 },
 "nbformat": 4,
 "nbformat_minor": 5
}
