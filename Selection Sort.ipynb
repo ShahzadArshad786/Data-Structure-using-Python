{
 "cells": [
  {
   "cell_type": "code",
   "execution_count": 2,
   "id": "daec2164",
   "metadata": {},
   "outputs": [],
   "source": [
    "import numpy as np "
   ]
  },
  {
   "cell_type": "code",
   "execution_count": 5,
   "id": "c2aef5dd",
   "metadata": {},
   "outputs": [
    {
     "name": "stdout",
     "output_type": "stream",
     "text": [
      "Original Array is : \n",
      "2 6 3 1 8 4 10 9 7 5 \n",
      "\n",
      "Sorted Array is : \n",
      "1 2 3 4 5 6 7 8 9 10 "
     ]
    }
   ],
   "source": [
    "arr = np.array ([2, 6, 3, 1, 8, 4, 10, 9, 7, 5])\n",
    "n = len(arr)\n",
    "\n",
    "print('Original Array is : ')            \n",
    "for i in range(0 , n):\n",
    "    print(arr[i] , end= \" \")\n",
    "\n",
    "for i in range(0 , n - 1):\n",
    "    for j in range( i + 1 , n):\n",
    "        if(arr[i] > arr[j]):\n",
    "            temp = arr[i] \n",
    "            arr[i] = arr[j]\n",
    "            arr[j] = temp\n",
    "\n",
    "print('\\n\\nSorted Array is : ')            \n",
    "for i in range(0 , n):\n",
    "    print(arr[i] , end= \" \")"
   ]
  },
  {
   "cell_type": "code",
   "execution_count": 7,
   "id": "8bd098c2",
   "metadata": {},
   "outputs": [
    {
     "name": "stdout",
     "output_type": "stream",
     "text": [
      "Enter Length of Array: 10\n",
      "\n",
      "Please input  10  numbers in Array\n",
      "2\n",
      "6\n",
      "3\n",
      "1\n",
      "8\n",
      "4\n",
      "10\n",
      "9\n",
      "7\n",
      "5\n",
      "\n",
      "Original Array is : \n",
      "2 6 3 1 8 4 10 9 7 5 \n",
      "\n",
      "Sorted Array is : \n",
      "1 2 3 4 5 6 7 8 9 10 "
     ]
    }
   ],
   "source": [
    "arr = []\n",
    "\n",
    "n = int(input(\"Enter Length of Array: \"))\n",
    "print(\"\\nPlease input \" , n , \" numbers in Array\" )\n",
    "for i in range(0, n):\n",
    "    x = int(input())\n",
    "    arr = np.append(arr, x)\n",
    "\n",
    "\n",
    "print('\\nOriginal Array is : ')            \n",
    "for i in range(0 , n):\n",
    "    print(int(arr[i]) , end= \" \")\n",
    "\n",
    "for i in range(0 , n - 1):\n",
    "    for j in range( i + 1 , n):\n",
    "        if(arr[i] > arr[j]):\n",
    "            temp = arr[i] \n",
    "            arr[i] = arr[j]\n",
    "            arr[j] = temp\n",
    "\n",
    "print('\\n\\nSorted Array is : ')            \n",
    "for i in range(0 , n):\n",
    "    print(int(arr[i]) , end= \" \")"
   ]
  }
 ],
 "metadata": {
  "kernelspec": {
   "display_name": "Python 3 (ipykernel)",
   "language": "python",
   "name": "python3"
  },
  "language_info": {
   "codemirror_mode": {
    "name": "ipython",
    "version": 3
   },
   "file_extension": ".py",
   "mimetype": "text/x-python",
   "name": "python",
   "nbconvert_exporter": "python",
   "pygments_lexer": "ipython3",
   "version": "3.9.13"
  }
 },
 "nbformat": 4,
 "nbformat_minor": 5
}
