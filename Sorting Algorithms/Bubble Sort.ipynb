{
 "cells": [
  {
   "cell_type": "code",
   "execution_count": 1,
   "id": "95e86c19",
   "metadata": {},
   "outputs": [],
   "source": [
    "import numpy as np "
   ]
  },
  {
   "cell_type": "code",
   "execution_count": 2,
   "id": "c139e042",
   "metadata": {},
   "outputs": [
    {
     "name": "stdout",
     "output_type": "stream",
     "text": [
      "\n",
      "Original Array :  35 33 6 14 63 41 36 99 24 59 53 97 39 86 25 \n",
      "\n",
      "Sorted   Array :  6 14 24 25 33 35 36 39 41 53 59 63 86 97 99 "
     ]
    }
   ],
   "source": [
    "arr = np.array ([35 , 33 , 6 , 14 , 63 , 41 , 36 , 99 , 24 , 59 , 53 , 97 , 39 , 86 , 25])\n",
    "n = len(arr)\n",
    "\n",
    "print()\n",
    "print('Original Array : ' , end = \" \")            \n",
    "for i in range(0 , n):\n",
    "    print(arr[i] , end= \" \")\n",
    "\n",
    "for i in range(0, n - 1):\n",
    "    for j in range(n - 1):\n",
    "        if(arr[j] > arr[j + 1]):\n",
    "            temp = arr[j] \n",
    "            arr[j] = arr[j + 1]\n",
    "            arr[j+1] = temp\n",
    "\n",
    "print('\\n\\nSorted   Array : ' , end = \" \")            \n",
    "for i in range(0 , n):\n",
    "    print(arr[i] , end= \" \")"
   ]
  },
  {
   "cell_type": "code",
   "execution_count": 9,
   "id": "660dffca",
   "metadata": {},
   "outputs": [
    {
     "name": "stdout",
     "output_type": "stream",
     "text": [
      "Enter Size of Array : 15\n",
      "\n",
      "Please Inputs  15  Elements in Array\n",
      "\n",
      "Enter Element at arr[0] index : 35\n",
      "Enter Element at arr[1] index : 33\n",
      "Enter Element at arr[2] index : 6\n",
      "Enter Element at arr[3] index : 14\n",
      "Enter Element at arr[4] index : 63\n",
      "Enter Element at arr[5] index : 41\n",
      "Enter Element at arr[6] index : 36\n",
      "Enter Element at arr[7] index : 99\n",
      "Enter Element at arr[8] index : 24\n",
      "Enter Element at arr[9] index : 59\n",
      "Enter Element at arr[10] index : 53\n",
      "Enter Element at arr[11] index : 97\n",
      "Enter Element at arr[12] index : 39\n",
      "Enter Element at arr[13] index : 86\n",
      "Enter Element at arr[14] index : 25\n",
      "\n",
      "Original Array :  35 33 6 14 63 41 36 99 24 59 53 97 39 86 25 \n",
      "\n",
      "Sorted Array   :  6 14 24 25 33 35 36 39 41 53 59 63 86 97 99 "
     ]
    }
   ],
   "source": [
    "arr = []\n",
    "\n",
    "n = int(input(\"Enter Size of Array : \"))\n",
    "\n",
    "print(\"\\nPlease Inputs \" , n , \" Elements in Array\" )\n",
    "print()\n",
    "\n",
    "for i in range(0, n):\n",
    "    x = int(input(\"Enter Element at arr[%d] index : \" %i ))\n",
    "    arr = np.append(arr, x)\n",
    "\n",
    "print()\n",
    "print('Original Array : ' , end = \" \")            \n",
    "for i in range(0 , n):\n",
    "    print(int(arr[i]) , end= \" \")\n",
    "\n",
    "for i in range(0, n - 1):\n",
    "    for j in range(n - 1):\n",
    "        if(arr[j] > arr[j + 1]):\n",
    "            temp = arr[j] \n",
    "            arr[j] = arr[j + 1]\n",
    "            arr[j+1] = temp\n",
    "\n",
    "print('\\n\\nSorted Array   : ' , end = \" \")            \n",
    "for i in range(0 , n):\n",
    "    print(int(arr[i]) , end= \" \")"
   ]
  }
 ],
 "metadata": {
  "kernelspec": {
   "display_name": "Python 3 (ipykernel)",
   "language": "python",
   "name": "python3"
  },
  "language_info": {
   "codemirror_mode": {
    "name": "ipython",
    "version": 3
   },
   "file_extension": ".py",
   "mimetype": "text/x-python",
   "name": "python",
   "nbconvert_exporter": "python",
   "pygments_lexer": "ipython3",
   "version": "3.9.13"
  }
 },
 "nbformat": 4,
 "nbformat_minor": 5
}
