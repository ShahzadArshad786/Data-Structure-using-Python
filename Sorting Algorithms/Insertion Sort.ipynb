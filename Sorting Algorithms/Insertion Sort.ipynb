{
 "cells": [
  {
   "cell_type": "code",
   "execution_count": 1,
   "id": "d352048f",
   "metadata": {},
   "outputs": [],
   "source": [
    "import numpy as np "
   ]
  },
  {
   "cell_type": "code",
   "execution_count": 2,
   "id": "0a444dd0",
   "metadata": {},
   "outputs": [
    {
     "name": "stdout",
     "output_type": "stream",
     "text": [
      "\n",
      "Original Array :  2 6 3 1 8 4 10 9 5 7 \n",
      "\n",
      "Sorted   Array :  1 2 3 4 5 6 7 8 9 10 "
     ]
    }
   ],
   "source": [
    "arr = np.array ([2 , 6 , 3 , 1 , 8 , 4 , 10 , 9 , 5 , 7])\n",
    "n = len(arr)\n",
    "\n",
    "print()\n",
    "print('Original Array : ' , end = \" \")            \n",
    "for i in range(0 , n):\n",
    "    print(arr[i] , end= \" \")\n",
    "\n",
    "for i in range(0 , n):\n",
    "    \n",
    "    temp = arr[i]\n",
    "    j = i - 1\n",
    "    \n",
    "    while(j >=0 and arr[j] > temp):\n",
    "        arr[j + 1] = arr[j]\n",
    "        j = j - 1\n",
    "    arr[j + 1] = temp \n",
    "       \n",
    "print('\\n\\nSorted   Array : ' , end = \" \")            \n",
    "for i in range(0 , n):\n",
    "    print(arr[i] , end= \" \")"
   ]
  },
  {
   "cell_type": "code",
   "execution_count": 3,
   "id": "cba00bdc",
   "metadata": {},
   "outputs": [
    {
     "name": "stdout",
     "output_type": "stream",
     "text": [
      "Enter Size of Array : 15\n",
      "\n",
      "Please Inputs  15  Elements in Array\n",
      "\n",
      "Enter Element at arr[0] index : 10\n",
      "Enter Element at arr[1] index : 5\n",
      "Enter Element at arr[2] index : 2\n",
      "Enter Element at arr[3] index : 7\n",
      "Enter Element at arr[4] index : 3\n",
      "Enter Element at arr[5] index : 15\n",
      "Enter Element at arr[6] index : 12\n",
      "Enter Element at arr[7] index : 18\n",
      "Enter Element at arr[8] index : 40\n",
      "Enter Element at arr[9] index : 32\n",
      "Enter Element at arr[10] index : 24\n",
      "Enter Element at arr[11] index : 70\n",
      "Enter Element at arr[12] index : 100\n",
      "Enter Element at arr[13] index : 95\n",
      "Enter Element at arr[14] index : 75\n",
      "\n",
      "Original Array :  10 5 2 7 3 15 12 18 40 32 24 70 100 95 75 \n",
      "\n",
      "Sorted Array   :  2 3 5 7 10 12 15 18 24 32 40 70 75 95 100 "
     ]
    }
   ],
   "source": [
    "\n",
    "n = int(input(\"Enter Size of Array : \"))\n",
    "\n",
    "arr = np.ndarray(shape = (n,) , dtype = int) \n",
    "    \n",
    "print(\"\\nPlease Inputs \" , n , \" Elements in Array\" )\n",
    "print()\n",
    "\n",
    "for i in range(0, n):\n",
    "    arr[i] = int(input(\"Enter Element at arr[%d] index : \" %i ))\n",
    "    \n",
    "\n",
    "print()\n",
    "print('Original Array : ' , end=\" \")            \n",
    "for i in range(0 , n):\n",
    "    print(arr[i] , end= \" \")\n",
    "\n",
    "for i in range(0 , n):\n",
    "    \n",
    "    temp = arr[i]\n",
    "    j = i - 1\n",
    "    \n",
    "    while(j >=0 and arr[j] > temp):\n",
    "        arr[j + 1] = arr[j]\n",
    "        j = j - 1\n",
    "    arr[j + 1] = temp \n",
    "       \n",
    "print('\\n\\nSorted Array   : ', end = \" \")            \n",
    "for i in range(0 , n):\n",
    "    print(arr[i] , end= \" \")"
   ]
  }
 ],
 "metadata": {
  "kernelspec": {
   "display_name": "Python 3 (ipykernel)",
   "language": "python",
   "name": "python3"
  },
  "language_info": {
   "codemirror_mode": {
    "name": "ipython",
    "version": 3
   },
   "file_extension": ".py",
   "mimetype": "text/x-python",
   "name": "python",
   "nbconvert_exporter": "python",
   "pygments_lexer": "ipython3",
   "version": "3.9.13"
  }
 },
 "nbformat": 4,
 "nbformat_minor": 5
}
