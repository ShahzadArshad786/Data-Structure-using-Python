{
 "cells": [
  {
   "cell_type": "code",
   "execution_count": 1,
   "id": "daec2164",
   "metadata": {},
   "outputs": [],
   "source": [
    "import numpy as np "
   ]
  },
  {
   "cell_type": "code",
   "execution_count": 2,
   "id": "c2aef5dd",
   "metadata": {},
   "outputs": [
    {
     "name": "stdout",
     "output_type": "stream",
     "text": [
      "\n",
      "Original Array :  2 6 3 1 8 4 10 9 7 5 \n",
      "\n",
      "Sorted   Array :  1 2 3 4 5 6 7 8 9 10 "
     ]
    }
   ],
   "source": [
    "arr = np.array ([2, 6, 3, 1, 8, 4, 10, 9, 7, 5])\n",
    "n = len(arr)\n",
    "\n",
    "print()\n",
    "print('Original Array : ' , end = \" \")            \n",
    "for i in range(0 , n):\n",
    "    print(arr[i] , end= \" \")\n",
    "\n",
    "for i in range(0 , n - 1):\n",
    "    for j in range( i + 1 , n):\n",
    "        if(arr[i] > arr[j]):\n",
    "            temp = arr[i] \n",
    "            arr[i] = arr[j]\n",
    "            arr[j] = temp\n",
    "\n",
    "print('\\n\\nSorted   Array : ' , end = \" \")            \n",
    "for i in range(0 , n):\n",
    "    print(arr[i] , end= \" \")"
   ]
  },
  {
   "cell_type": "code",
   "execution_count": 3,
   "id": "8bd098c2",
   "metadata": {},
   "outputs": [
    {
     "name": "stdout",
     "output_type": "stream",
     "text": [
      "Enter Size of Array : 7\n",
      "\n",
      "Please Inpus  7  Elements in Array\n",
      "\n",
      "Enter Element at arr[0] index : 64\n",
      "Enter Element at arr[1] index : 34\n",
      "Enter Element at arr[2] index : 25\n",
      "Enter Element at arr[3] index : 22\n",
      "Enter Element at arr[4] index : 12\n",
      "Enter Element at arr[5] index : 90\n",
      "Enter Element at arr[6] index : 11\n",
      "\n",
      "Original Array :  64 34 25 22 12 90 11 \n",
      "\n",
      "Sorted   Array :  11 12 22 25 34 64 90 "
     ]
    }
   ],
   "source": [
    "n = int(input(\"Enter Size of Array : \"))\n",
    "\n",
    "arr = np.ndarray(shape = (n) , dtype = int) \n",
    "\n",
    "print(\"\\nPlease Inpus \" , n , \" Elements in Array\\n\")\n",
    "\n",
    "for i in range(0, n):\n",
    "    arr[i] = int(input(\"Enter Element at arr[%d] index : \" %i))\n",
    "    \n",
    "\n",
    "\n",
    "print('\\nOriginal Array : ', end= \" \" )            \n",
    "for i in range(0 , n):\n",
    "    print(int(arr[i]) , end= \" \")\n",
    "\n",
    "for i in range(0 , n - 1):\n",
    "    for j in range( i + 1 , n):\n",
    "        if(arr[i] > arr[j]):\n",
    "            temp = arr[i] \n",
    "            arr[i] = arr[j]\n",
    "            arr[j] = temp\n",
    "\n",
    "print('\\n\\nSorted   Array : ' , end= \" \")            \n",
    "for i in range(0 , n):\n",
    "    print(int(arr[i]) , end= \" \")"
   ]
  }
 ],
 "metadata": {
  "kernelspec": {
   "display_name": "Python 3 (ipykernel)",
   "language": "python",
   "name": "python3"
  },
  "language_info": {
   "codemirror_mode": {
    "name": "ipython",
    "version": 3
   },
   "file_extension": ".py",
   "mimetype": "text/x-python",
   "name": "python",
   "nbconvert_exporter": "python",
   "pygments_lexer": "ipython3",
   "version": "3.9.13"
  }
 },
 "nbformat": 4,
 "nbformat_minor": 5
}
