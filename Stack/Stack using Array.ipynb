{
 "cells": [
  {
   "cell_type": "code",
   "execution_count": null,
   "id": "d6775993",
   "metadata": {
    "scrolled": true
   },
   "outputs": [
    {
     "name": "stdout",
     "output_type": "stream",
     "text": [
      "\n",
      "* * * STACK MENU * * *\n",
      "\n",
      "1 --> PUSH in STACK\n",
      "\n",
      "2 --> POP From STACK\n",
      "\n",
      "3 --> SHOW STACK\n",
      "\n",
      "4 --> PEEK of STACK\n",
      "\n",
      "5 --> EXIT\n"
     ]
    },
    {
     "name": "stdin",
     "output_type": "stream",
     "text": [
      "\n",
      "Enter Your Option :  1\n",
      "\n",
      "Enter Value to be Pushed :  100\n"
     ]
    },
    {
     "name": "stdout",
     "output_type": "stream",
     "text": [
      "\n",
      " 100 is Pushed at Stack Top\n",
      "\n"
     ]
    },
    {
     "name": "stdin",
     "output_type": "stream",
     "text": [
      "\n",
      "Enter Your Option :  1\n",
      "\n",
      "Enter Value to be Pushed :  200\n"
     ]
    },
    {
     "name": "stdout",
     "output_type": "stream",
     "text": [
      "\n",
      " 200 is Pushed at Stack Top\n",
      "\n"
     ]
    },
    {
     "name": "stdin",
     "output_type": "stream",
     "text": [
      "\n",
      "Enter Your Option :  3\n"
     ]
    },
    {
     "name": "stdout",
     "output_type": "stream",
     "text": [
      "\n",
      "*** *** STACK DATA *** ***\n",
      "\n",
      "\tIndex\tSTACK\n",
      "\n",
      "\t 1 \t 200\n",
      "\n",
      "\t 0 \t 100\n"
     ]
    }
   ],
   "source": [
    "import numpy as np \n",
    "import sys \n",
    "\n",
    "MAX = 5 \n",
    "top = -1 \n",
    "\n",
    "STACK = np.ndarray(shape=(MAX,) , dtype = int)\n",
    "\n",
    "def PUSH(n):\n",
    "    global top\n",
    "    if(top == MAX - 1):\n",
    "        print(\"\\nStack is Overflow\\n\")\n",
    "    else: \n",
    "        top = top + 1 \n",
    "        STACK[top] = n \n",
    "        print(\"\\n\",n,\"is Pushed at Stack Top\\n\")\n",
    "\n",
    "def POP():\n",
    "    global top\n",
    "    if(top == -1):\n",
    "        print(\"Stack is Underflow\")\n",
    "    else: \n",
    "        print(\"\\n\",STACK[top], \" is Poped From Stack\\n\")\n",
    "        top = top - 1 \n",
    "\n",
    "def PEEK():\n",
    "    global top\n",
    "    if(top == -1):\n",
    "        print(\"Stack is Underflow\")\n",
    "    else: \n",
    "        print(\"\\nStack TOP : \",STACK[top] , \"\\n\")\n",
    "       \n",
    "def Show():\n",
    "    global top\n",
    "    if(top == -1):\n",
    "        print(\"\\nStack is Underflow\")\n",
    "    else:\n",
    "        print(\"\\n*** *** STACK DATA *** ***\")\n",
    "        print(\"\\n\\tIndex\\tSTACK\")\n",
    "\n",
    "        for i in range(top, -1 , -1):\n",
    "            print(\"\\n\\t\" , i , \"\\t\" ,  STACK[i] )\n",
    "\n",
    "\n",
    "print(\"\\n* * * STACK MENU * * *\\n\")\n",
    "print(\"1 --> PUSH in STACK\\n\")\n",
    "print(\"2 --> POP From STACK\\n\")\n",
    "print(\"3 --> SHOW STACK\\n\")\n",
    "print(\"4 --> PEEK of STACK\\n\")\n",
    "print(\"5 --> EXIT\")\n",
    "while True:\n",
    "    choice = int(input(\"\\nEnter Your Option : \"))\n",
    "     \n",
    "    match choice:\n",
    "        case 1:\n",
    "            val = int(input(\"\\nEnter Value to be Pushed : \"))\n",
    "            PUSH(val)\n",
    "    \n",
    "        case 2:\n",
    "            POP()\n",
    "        \n",
    "        case 3:\n",
    "            Show()\n",
    "            \n",
    "        case 4:\n",
    "            PEEK()\n",
    "\n",
    "        case 5:\n",
    "            #sys.exit()\n",
    "            quit()\n",
    "            \n",
    "        case _:\n",
    "            print(\"\\nInvalid Choice\\n\")"
   ]
  },
  {
   "cell_type": "code",
   "execution_count": null,
   "id": "440ae7cc-7f54-449d-a1a8-08c8c2104122",
   "metadata": {},
   "outputs": [],
   "source": []
  }
 ],
 "metadata": {
  "kernelspec": {
   "display_name": "Python 3 (ipykernel)",
   "language": "python",
   "name": "python3"
  },
  "language_info": {
   "codemirror_mode": {
    "name": "ipython",
    "version": 3
   },
   "file_extension": ".py",
   "mimetype": "text/x-python",
   "name": "python",
   "nbconvert_exporter": "python",
   "pygments_lexer": "ipython3",
   "version": "3.12.4"
  }
 },
 "nbformat": 4,
 "nbformat_minor": 5
}
