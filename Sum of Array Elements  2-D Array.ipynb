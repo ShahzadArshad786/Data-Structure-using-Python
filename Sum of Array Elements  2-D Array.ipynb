{
 "cells": [
  {
   "cell_type": "code",
   "execution_count": 91,
   "id": "0df707f2",
   "metadata": {},
   "outputs": [],
   "source": [
    "import numpy as np"
   ]
  },
  {
   "cell_type": "code",
   "execution_count": 92,
   "id": "74bd614d",
   "metadata": {},
   "outputs": [],
   "source": [
    "arr = np.array([[1, 2, 3, 4, 5], [6, 7, 8, 9, 10] , [11, 12, 13, 14, 15]])"
   ]
  },
  {
   "cell_type": "code",
   "execution_count": 93,
   "id": "0c5711df",
   "metadata": {},
   "outputs": [],
   "source": [
    "dimensions = arr.shape"
   ]
  },
  {
   "cell_type": "code",
   "execution_count": 94,
   "id": "5b87cd96",
   "metadata": {},
   "outputs": [],
   "source": [
    "r , c = dimensions"
   ]
  },
  {
   "cell_type": "code",
   "execution_count": 95,
   "id": "d37e6b67",
   "metadata": {},
   "outputs": [
    {
     "name": "stdout",
     "output_type": "stream",
     "text": [
      "Rows    :  3\n",
      "Columns :  5\n"
     ]
    }
   ],
   "source": [
    "print(\"Rows    : \", r)\n",
    "print(\"Columns : \" , c)"
   ]
  },
  {
   "cell_type": "code",
   "execution_count": 87,
   "id": "663fa766",
   "metadata": {},
   "outputs": [
    {
     "name": "stdout",
     "output_type": "stream",
     "text": [
      "Array with  3  Rows and  5  Columns \n",
      "\n",
      " [[ 1  2  3  4  5]\n",
      " [ 6  7  8  9 10]\n",
      " [11 12 13 14 15]]\n"
     ]
    }
   ],
   "source": [
    "print(\"Array with \", r , \" Rows and \",  c , \" Columns \\n\\n\" , arr)"
   ]
  },
  {
   "cell_type": "code",
   "execution_count": 96,
   "id": "c2385195",
   "metadata": {},
   "outputs": [],
   "source": [
    "sum = 0 \n",
    "for i in range(0, r):\n",
    "    for j in range(0 , c):\n",
    "        sum = sum + arr[i][j]"
   ]
  },
  {
   "cell_type": "code",
   "execution_count": 97,
   "id": "98af67df",
   "metadata": {},
   "outputs": [
    {
     "name": "stdout",
     "output_type": "stream",
     "text": [
      "Sum of Array is :  120\n"
     ]
    }
   ],
   "source": [
    "print(\"Sum of Array is : \" , sum)"
   ]
  }
 ],
 "metadata": {
  "kernelspec": {
   "display_name": "Python 3 (ipykernel)",
   "language": "python",
   "name": "python3"
  },
  "language_info": {
   "codemirror_mode": {
    "name": "ipython",
    "version": 3
   },
   "file_extension": ".py",
   "mimetype": "text/x-python",
   "name": "python",
   "nbconvert_exporter": "python",
   "pygments_lexer": "ipython3",
   "version": "3.9.13"
  }
 },
 "nbformat": 4,
 "nbformat_minor": 5
}
