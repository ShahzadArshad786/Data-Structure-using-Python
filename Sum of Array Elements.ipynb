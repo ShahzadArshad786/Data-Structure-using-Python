{
 "cells": [
  {
   "cell_type": "code",
   "execution_count": 1,
   "id": "75908f35",
   "metadata": {},
   "outputs": [],
   "source": [
    "import numpy as np"
   ]
  },
  {
   "cell_type": "code",
   "execution_count": 4,
   "id": "c01cdf92",
   "metadata": {},
   "outputs": [
    {
     "name": "stdout",
     "output_type": "stream",
     "text": [
      "Enter Length of Array: 5\n",
      "\n",
      "Please input  5  elements in Array\n",
      "1\n",
      "3\n",
      "5\n",
      "7\n",
      "9\n",
      "\n",
      "Sum of Array Elements is :  25\n"
     ]
    }
   ],
   "source": [
    "arr = []\n",
    "\n",
    "sum = 0 \n",
    "n = int(input(\"Enter Length of Array: \"))\n",
    "print(\"\\nPlease input \" , n , \" elements in Array\" )\n",
    "for i in range(0, n):\n",
    "    x = int(input())\n",
    "    arr = np.append(arr, x)\n",
    "    \n",
    "\n",
    "for i in range (0, n):\n",
    "    sum = sum + arr[i] \n",
    "    \n",
    "print(\"\\nSum of Array Elements is : \" , int(sum))"
   ]
  }
 ],
 "metadata": {
  "kernelspec": {
   "display_name": "Python 3 (ipykernel)",
   "language": "python",
   "name": "python3"
  },
  "language_info": {
   "codemirror_mode": {
    "name": "ipython",
    "version": 3
   },
   "file_extension": ".py",
   "mimetype": "text/x-python",
   "name": "python",
   "nbconvert_exporter": "python",
   "pygments_lexer": "ipython3",
   "version": "3.9.13"
  }
 },
 "nbformat": 4,
 "nbformat_minor": 5
}
